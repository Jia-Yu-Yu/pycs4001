{
  "nbformat": 4,
  "nbformat_minor": 0,
  "metadata": {
    "colab": {
      "name": "class04.ipynb",
      "provenance": [],
      "collapsed_sections": [],
      "authorship_tag": "ABX9TyPXwm9s/W/pdbxB4vQXf/im",
      "include_colab_link": true
    },
    "kernelspec": {
      "name": "python3",
      "display_name": "Python 3"
    },
    "language_info": {
      "name": "python"
    }
  },
  "cells": [
    {
      "cell_type": "markdown",
      "metadata": {
        "id": "view-in-github",
        "colab_type": "text"
      },
      "source": [
        "<a href=\"https://colab.research.google.com/github/Jia-Yu-Yu/pycs4001/blob/main/class04.ipynb\" target=\"_parent\"><img src=\"https://colab.research.google.com/assets/colab-badge.svg\" alt=\"Open In Colab\"/></a>"
      ]
    },
    {
      "cell_type": "markdown",
      "source": [
        "# **物件導向**"
      ],
      "metadata": {
        "id": "mIbAX1R9hvR1"
      }
    },
    {
      "cell_type": "code",
      "execution_count": 1,
      "metadata": {
        "id": "TUPA6SZsgmkS"
      },
      "outputs": [],
      "source": [
        "#class Person : #要大寫\n",
        "#  def __init__(self):  #init: 建構子 constructor\n",
        "#    self.name = \"Thousand\"  # Person 的第一個屬性：名字\n",
        "#    self.gender = \"Male\"    # Person 的第二個屬性：性別\n",
        "#    print(\"This is Person Class\")"
      ]
    },
    {
      "cell_type": "code",
      "source": [
        "# 物件化（實體化）（實體化）instance\n",
        "#p1 = Person() "
      ],
      "metadata": {
        "colab": {
          "base_uri": "https://localhost:8080/"
        },
        "id": "1IQL9KBih5iQ",
        "outputId": "5956d78a-5036-4088-c9b1-1c44841489df"
      },
      "execution_count": 2,
      "outputs": [
        {
          "output_type": "stream",
          "name": "stdout",
          "text": [
            "This is Person Class\n"
          ]
        }
      ]
    },
    {
      "cell_type": "code",
      "source": [
        "#print(p1.name)\n",
        "#print(p1.gender)"
      ],
      "metadata": {
        "colab": {
          "base_uri": "https://localhost:8080/"
        },
        "id": "zl4Yl7M_iadM",
        "outputId": "bbe0a20a-b563-4d6d-d097-0faacdb60cce"
      },
      "execution_count": 3,
      "outputs": [
        {
          "output_type": "stream",
          "name": "stdout",
          "text": [
            "Thousand\n",
            "Male\n"
          ]
        }
      ]
    },
    {
      "cell_type": "code",
      "source": [
        "class Person : \n",
        "  # 建構子 constructor\n",
        "  def __init__(self, name, gender):  \n",
        "    self.n = name  \n",
        "    self.g = gender    \n",
        "    print(\"This is Person Class\")\n",
        "\n",
        "  # instance method\n",
        "  def introduction(self):\n",
        "    print(f\"Hello my name is {self.n}\")"
      ],
      "metadata": {
        "id": "P9133RXhjLfu"
      },
      "execution_count": 1,
      "outputs": []
    },
    {
      "cell_type": "code",
      "source": [
        "p1 = Person(name = \"Thousand\", gender = \"Male\")\n",
        "p2 = Person(name = \"Allie\", gender = \"Female\")"
      ],
      "metadata": {
        "colab": {
          "base_uri": "https://localhost:8080/"
        },
        "id": "VqJOaaH1jouB",
        "outputId": "1a313544-fbfc-4667-d0fe-7fb43680d484"
      },
      "execution_count": 2,
      "outputs": [
        {
          "output_type": "stream",
          "name": "stdout",
          "text": [
            "This is Person Class\n",
            "This is Person Class\n"
          ]
        }
      ]
    },
    {
      "cell_type": "code",
      "source": [
        "print(p1.n, p1.g)\n",
        "print(p2.n, p2.g)"
      ],
      "metadata": {
        "colab": {
          "base_uri": "https://localhost:8080/"
        },
        "id": "mnHFA9xGjozi",
        "outputId": "6fc5b8d7-4eef-4236-ff5a-ee138d5ef67c"
      },
      "execution_count": 3,
      "outputs": [
        {
          "output_type": "stream",
          "name": "stdout",
          "text": [
            "Thousand Male\n",
            "Allie Female\n"
          ]
        }
      ]
    },
    {
      "cell_type": "code",
      "source": [
        "p1.introduction()"
      ],
      "metadata": {
        "colab": {
          "base_uri": "https://localhost:8080/"
        },
        "id": "76tW5UG3jo22",
        "outputId": "d759a9b3-b43c-4ea9-d0c0-a4bfa09a052c"
      },
      "execution_count": 4,
      "outputs": [
        {
          "output_type": "stream",
          "name": "stdout",
          "text": [
            "Hello my name is Thousand\n"
          ]
        }
      ]
    },
    {
      "cell_type": "code",
      "source": [
        "p2.introduction()"
      ],
      "metadata": {
        "colab": {
          "base_uri": "https://localhost:8080/"
        },
        "id": "N60j-9sXjo5c",
        "outputId": "3bb63162-40e7-4145-8ae7-8e1a43c3c754"
      },
      "execution_count": 5,
      "outputs": [
        {
          "output_type": "stream",
          "name": "stdout",
          "text": [
            "Hello my name is Allie\n"
          ]
        }
      ]
    },
    {
      "cell_type": "code",
      "source": [
        "class Warrior:\n",
        "  def __init__(self, name, gender, weapon = \"bat\"):\n",
        "    self.lv = 1\n",
        "    self.exp = 0\n",
        "    self.n = name\n",
        "    self.g = gender\n",
        "    self.w = weapon\n",
        "    self.sp = 100\n",
        "    print(\"This is Warrior class.\")\n",
        "  \n",
        "  def __str__(self):\n",
        "    return f\"Name: {self.n}, Gender: {self.g}, Weapon: {self.w}, Level: {self.lv}, Exp: {self.exp} \"\n",
        "  \n",
        "  def attack(self,enemy):\n",
        "    self.exp +=40\n",
        "    enemy.hp -=1\n",
        "    self.level_up()  #呼叫另一個method\n",
        "    print(f\"{self.n} attacked! Level: {self.lv}, Exp:{self.exp}\")\n",
        " \n",
        "  def level_up(self):\n",
        "    if self.exp >= 100 :\n",
        "      self.lv += 1\n",
        "      self.exp -= 100\n",
        "      print(f\"{self.n} Level up!!! \")"
      ],
      "metadata": {
        "id": "G5yFIkOOjo8k"
      },
      "execution_count": 1,
      "outputs": []
    },
    {
      "cell_type": "code",
      "source": [
        "class Magician:\n",
        "  def __init__(self, name, gender, weapon = \"bat\"):\n",
        "    self.lv = 1\n",
        "    self.exp = 0\n",
        "    self.n = name\n",
        "    self.g = gender\n",
        "    self.w = weapon\n",
        "    self.mp = 100\n",
        "    \n",
        "  \n",
        "  def __str__(self):\n",
        "    return f\"Name: {self.n}, Gender: {self.g}, Weapon: {self.w}, Level: {self.lv}, Exp: {self.exp} \"\n",
        "  \n",
        "  def attack(self,enemy):\n",
        "    self.exp +=40\n",
        "    enemy.hp -=1\n",
        "    self.level_up()  #呼叫另一個method\n",
        "    print(f\"{self.n} attacked! Level: {self.lv}, Exp:{self.exp}\")\n",
        " \n",
        "  def level_up(self):\n",
        "    if self.exp >= 100 :\n",
        "      self.lv += 1\n",
        "      self.exp -= 100\n",
        "      print(f\"{self.n} Level up!!! \")"
      ],
      "metadata": {
        "id": "4l6uegcyyuy_"
      },
      "execution_count": null,
      "outputs": []
    },
    {
      "cell_type": "code",
      "source": [
        "class Enemy:\n",
        "  def __init__(self):\n",
        "    self.name = \"Monster\"\n",
        "    self.hp = 100"
      ],
      "metadata": {
        "id": "MTh3GPD1w7ZV"
      },
      "execution_count": 2,
      "outputs": []
    },
    {
      "cell_type": "code",
      "source": [
        "w1 = Warrior(name = \"Thousand\", gender = \"Male\", weapon = \"Sword\")\n",
        "w2 = Warrior(name = \"Allie\", gender = \"Female\", weapon = \"Longbow\")"
      ],
      "metadata": {
        "colab": {
          "base_uri": "https://localhost:8080/"
        },
        "id": "jMZAh3xijo_e",
        "outputId": "a17fbfa2-de74-439c-bee1-f02b5fe7922d"
      },
      "execution_count": 3,
      "outputs": [
        {
          "output_type": "stream",
          "name": "stdout",
          "text": [
            "This is Warrior class.\n",
            "This is Warrior class.\n"
          ]
        }
      ]
    },
    {
      "cell_type": "code",
      "source": [
        "e = Enemy()"
      ],
      "metadata": {
        "id": "oIdaocCLxWtL"
      },
      "execution_count": 4,
      "outputs": []
    },
    {
      "cell_type": "code",
      "source": [
        "print(f\"Warrior: {w1} \")"
      ],
      "metadata": {
        "colab": {
          "base_uri": "https://localhost:8080/"
        },
        "id": "k43LPh-4nKS9",
        "outputId": "625948bf-d784-4a8d-d3d2-d367cb32e6c4"
      },
      "execution_count": 5,
      "outputs": [
        {
          "output_type": "stream",
          "name": "stdout",
          "text": [
            "Warrior: Name: Thousand, Gender: Male, Weapon: Sword, Level: 1, Exp: 0  \n"
          ]
        }
      ]
    },
    {
      "cell_type": "code",
      "source": [
        "for i in range(5):\n",
        "  w1.attack(enemy = e)"
      ],
      "metadata": {
        "colab": {
          "base_uri": "https://localhost:8080/"
        },
        "id": "zpQHWaTonKll",
        "outputId": "6f822d8a-ea67-4e27-9aaf-43d8e6b7b666"
      },
      "execution_count": 6,
      "outputs": [
        {
          "output_type": "stream",
          "name": "stdout",
          "text": [
            "Thousand attacked! Level: 1, Exp:40\n",
            "Thousand attacked! Level: 1, Exp:80\n",
            "Thousand Level up!!! \n",
            "Thousand attacked! Level: 2, Exp:20\n",
            "Thousand attacked! Level: 2, Exp:60\n",
            "Thousand Level up!!! \n",
            "Thousand attacked! Level: 3, Exp:0\n"
          ]
        }
      ]
    },
    {
      "cell_type": "code",
      "source": [
        "e.hp"
      ],
      "metadata": {
        "colab": {
          "base_uri": "https://localhost:8080/"
        },
        "id": "r2hIg_YKrgYj",
        "outputId": "91699a1c-e9ce-4599-d024-c79edacef186"
      },
      "execution_count": 7,
      "outputs": [
        {
          "output_type": "execute_result",
          "data": {
            "text/plain": [
              "95"
            ]
          },
          "metadata": {},
          "execution_count": 7
        }
      ]
    },
    {
      "cell_type": "markdown",
      "source": [
        "# **繼承 (Inheritance)**"
      ],
      "metadata": {
        "id": "X1i_3xwezCi9"
      }
    },
    {
      "cell_type": "code",
      "source": [
        "#super\n",
        "class Character:\n",
        "  def __init__(self, name, gender, weapon = \"bat\"):\n",
        "    self.lv = 1\n",
        "    self.exp = 0\n",
        "    self.n = name\n",
        "    self.g = gender\n",
        "    self.w = weapon\n",
        "    print(\"This is Character class.\")\n",
        "\n",
        "  def __str__(self):\n",
        "    return f\"Name: {self.n}, Gender: {self.g}, Weapon: {self.w}, Level: {self.lv}, Exp: {self.exp} \"\n",
        "  \n",
        "  def attack(self,enemy):\n",
        "    self.exp +=40\n",
        "    enemy.hp -=1\n",
        "    self.level_up()  #呼叫另一個method\n",
        "    print(f\"{self.n} attacked! Level: {self.lv}, Exp:{self.exp}\")\n",
        " \n",
        "  def level_up(self):\n",
        "    if self.exp >= 100 :\n",
        "      self.lv += 1\n",
        "      self.exp -= 100\n",
        "      print(f\"{self.n} Level up!!! \")"
      ],
      "metadata": {
        "id": "GwzbQY-hzRJd"
      },
      "execution_count": 1,
      "outputs": []
    },
    {
      "cell_type": "code",
      "source": [
        "class Enemy:\n",
        "  def __init__(self):\n",
        "    self.name = \"Monster\"\n",
        "    self.hp = 100"
      ],
      "metadata": {
        "id": "7GNEN-ry2aSM"
      },
      "execution_count": 2,
      "outputs": []
    },
    {
      "cell_type": "code",
      "source": [
        "#sub :Warrior.    繼承祖先的所有屬性跟特性\n",
        "class Warrior(Character):\n",
        "  def __init__(self, name, gender, weapon=\"bat\"): \n",
        "    super().__init__(name, gender, weapon)  \n",
        "    self.sp = 100\n",
        "    print(\"This is Warrior Class\")\n",
        "\n",
        "  def attack(self, enemy):   #改寫super的的attack\n",
        "    super().attack(enemy)\n",
        "    print(\"w1\")\n",
        "\n",
        "  def attack(self):  #override: 把super的的attack整個改掉\n",
        "    print(\"w1\")"
      ],
      "metadata": {
        "id": "H2UYJcjjrgbD"
      },
      "execution_count": 3,
      "outputs": []
    },
    {
      "cell_type": "code",
      "source": [
        "#sub: Magician.    繼承祖先的所有屬性跟特性\n",
        "class Magician(Character):\n",
        "  def __init__(self, name, gender, weapon=\"bat\"): \n",
        "    super().__init__(name, gender, weapon)  \n",
        "    self.mp = 100\n",
        "    print(\"This is Magician Class\")"
      ],
      "metadata": {
        "id": "u5B3WpSn13g0"
      },
      "execution_count": 4,
      "outputs": []
    },
    {
      "cell_type": "code",
      "source": [
        "w1 = Warrior(name = \"Thousand\", gender = \"Male\", weapon = \"Sword\")\n",
        "w2 = Warrior(name = \"Allie\", gender = \"Female\", weapon = \"Longbow\")"
      ],
      "metadata": {
        "colab": {
          "base_uri": "https://localhost:8080/"
        },
        "id": "PWV_7wMrrgd7",
        "outputId": "f0d76dc0-daaf-4f23-a0e4-84f773064087"
      },
      "execution_count": 5,
      "outputs": [
        {
          "output_type": "stream",
          "name": "stdout",
          "text": [
            "This is Character class.\n",
            "This is Warrior Class\n",
            "This is Character class.\n",
            "This is Warrior Class\n"
          ]
        }
      ]
    },
    {
      "cell_type": "code",
      "source": [
        "print(w1)"
      ],
      "metadata": {
        "colab": {
          "base_uri": "https://localhost:8080/"
        },
        "id": "3vxwD9-Trggy",
        "outputId": "0f17a273-7904-4d51-9be7-d34a05bcca51"
      },
      "execution_count": 7,
      "outputs": [
        {
          "output_type": "stream",
          "name": "stdout",
          "text": [
            "Name: Thousand, Gender: Male, Weapon: Sword, Level: 1, Exp: 0 \n"
          ]
        }
      ]
    },
    {
      "cell_type": "code",
      "source": [
        "print(f\"Warrior: {w1} \")"
      ],
      "metadata": {
        "colab": {
          "base_uri": "https://localhost:8080/"
        },
        "id": "tn0JKXHM2_V-",
        "outputId": "a4ca4812-f948-4cbf-e6ce-0d63cc045449"
      },
      "execution_count": 6,
      "outputs": [
        {
          "output_type": "stream",
          "name": "stdout",
          "text": [
            "Warrior: Name: Thousand, Gender: Male, Weapon: Sword, Level: 1, Exp: 0  \n"
          ]
        }
      ]
    },
    {
      "cell_type": "code",
      "source": [
        "e = Enemy()"
      ],
      "metadata": {
        "id": "NNSVnXT1rgj3"
      },
      "execution_count": 8,
      "outputs": []
    },
    {
      "cell_type": "code",
      "source": [
        "for i in range(5):\n",
        "  w1.attack(enemy = e)"
      ],
      "metadata": {
        "colab": {
          "base_uri": "https://localhost:8080/"
        },
        "id": "eICPFZ9VrgmQ",
        "outputId": "24772f9d-e946-4661-d8f1-9137350a029b"
      },
      "execution_count": 9,
      "outputs": [
        {
          "output_type": "stream",
          "name": "stdout",
          "text": [
            "Thousand attacked! Level: 1, Exp:40\n",
            "Thousand attacked! Level: 1, Exp:80\n",
            "Thousand Level up!!! \n",
            "Thousand attacked! Level: 2, Exp:20\n",
            "Thousand attacked! Level: 2, Exp:60\n",
            "Thousand Level up!!! \n",
            "Thousand attacked! Level: 3, Exp:0\n"
          ]
        }
      ]
    },
    {
      "cell_type": "code",
      "source": [
        "e.hp"
      ],
      "metadata": {
        "colab": {
          "base_uri": "https://localhost:8080/"
        },
        "id": "CDSsIr3Brgo3",
        "outputId": "73defef4-09eb-4440-9607-df276bf1c078"
      },
      "execution_count": 10,
      "outputs": [
        {
          "output_type": "execute_result",
          "data": {
            "text/plain": [
              "95"
            ]
          },
          "metadata": {},
          "execution_count": 10
        }
      ]
    },
    {
      "cell_type": "markdown",
      "source": [
        "# **Numpy**"
      ],
      "metadata": {
        "id": "HDGgKJrv8yUp"
      }
    },
    {
      "cell_type": "code",
      "source": [
        "import numpy as np"
      ],
      "metadata": {
        "id": "0Ugrkm02rgre"
      },
      "execution_count": 11,
      "outputs": []
    },
    {
      "cell_type": "code",
      "source": [
        "a = [1,2,3]\n",
        "b = [4,5,6]\n",
        "print(a+b)"
      ],
      "metadata": {
        "colab": {
          "base_uri": "https://localhost:8080/"
        },
        "id": "cUdWkTAgrguW",
        "outputId": "ed2a7bf9-4ce0-4281-ca7f-59e378f3bf60"
      },
      "execution_count": 12,
      "outputs": [
        {
          "output_type": "stream",
          "name": "stdout",
          "text": [
            "[1, 2, 3, 4, 5, 6]\n"
          ]
        }
      ]
    },
    {
      "cell_type": "code",
      "source": [
        "arr1 = np.array(a)\n",
        "arr2 = np.array(b)\n",
        "print(arr1 + arr2)"
      ],
      "metadata": {
        "colab": {
          "base_uri": "https://localhost:8080/"
        },
        "id": "e9b_pE_Z-65D",
        "outputId": "0cde6571-f083-42b3-a4b7-5974d709201b"
      },
      "execution_count": 13,
      "outputs": [
        {
          "output_type": "stream",
          "name": "stdout",
          "text": [
            "[5 7 9]\n"
          ]
        }
      ]
    },
    {
      "cell_type": "code",
      "source": [
        "a = np.array([1,2,3])\n",
        "b = np.array([[1.0,2.0,3.0],[3.2,5.7,8.2]])\n",
        "print(f\"a: {a}\")\n",
        "print(f\"a dimension: {a.ndim}\")\n",
        "print(f\"a shape: {a.shape}\")   # 一維\n",
        "print(f\"a type: {a.dtype}\")\n",
        "print(f\"b: {b}\")\n",
        "print(f\"b dimension: {b.ndim}\")\n",
        "print(f\"b shape: {b.shape}\")   # 二維\n",
        "print(f\"b type: {b.dtype}\")"
      ],
      "metadata": {
        "colab": {
          "base_uri": "https://localhost:8080/"
        },
        "id": "L3iKZJbq-67h",
        "outputId": "9d955ce0-69e9-4111-f555-dad92bdabfab"
      },
      "execution_count": 14,
      "outputs": [
        {
          "output_type": "stream",
          "name": "stdout",
          "text": [
            "a: [1 2 3]\n",
            "a dimension: 1\n",
            "a shape: (3,)\n",
            "a type: int64\n",
            "b: [[1.  2.  3. ]\n",
            " [3.2 5.7 8.2]]\n",
            "b dimension: 2\n",
            "b shape: (2, 3)\n",
            "b type: float64\n"
          ]
        }
      ]
    },
    {
      "cell_type": "code",
      "source": [
        "# index/slice/2D\n",
        "\n",
        "a = np.array([[1,2,3,4,5,6],[7,8,9,10,11,12]])\n",
        "print(a[1,2]) # 9\n",
        "print(a[0,:]) # [1,2,3,4,5,6]\n",
        "print(a[:,2]) # [3,9]\n",
        "print(a[0,1:5:2]) # [2,4] (start,stop,step)\n",
        "a[1,2] = 20\n",
        "print(a)\n",
        "a[:,2] = [7,8]\n",
        "print(a)"
      ],
      "metadata": {
        "colab": {
          "base_uri": "https://localhost:8080/"
        },
        "id": "OtGAs0be-697",
        "outputId": "729dc6bd-d954-4d9b-b9cb-26a23d1a0121"
      },
      "execution_count": 15,
      "outputs": [
        {
          "output_type": "stream",
          "name": "stdout",
          "text": [
            "9\n",
            "[1 2 3 4 5 6]\n",
            "[3 9]\n",
            "[2 4]\n",
            "[[ 1  2  3  4  5  6]\n",
            " [ 7  8 20 10 11 12]]\n",
            "[[ 1  2  7  4  5  6]\n",
            " [ 7  8  8 10 11 12]]\n"
          ]
        }
      ]
    },
    {
      "cell_type": "code",
      "source": [
        "# index/slice/3D\n",
        "\n",
        "a = np.array([[[1,2],[3,5],[7,8]],\n",
        "              [[1,7],[-3,2],[10,2]],\n",
        "              [[6,-2],[5,-3],[7,9]],\n",
        "              [[8,5],[-2,2],[26,-2]],\n",
        "              [[1,-7],[-3,2],[-5,-2]],])\n",
        "print(a)\n",
        "print(a.shape) \n",
        "print(a[3,2,0])\n",
        "print(a[:,1,:])"
      ],
      "metadata": {
        "colab": {
          "base_uri": "https://localhost:8080/"
        },
        "id": "m0WNPvoj-7Ag",
        "outputId": "9c3b9fc2-b0f7-48e0-f697-441e138e2cb5"
      },
      "execution_count": 16,
      "outputs": [
        {
          "output_type": "stream",
          "name": "stdout",
          "text": [
            "[[[ 1  2]\n",
            "  [ 3  5]\n",
            "  [ 7  8]]\n",
            "\n",
            " [[ 1  7]\n",
            "  [-3  2]\n",
            "  [10  2]]\n",
            "\n",
            " [[ 6 -2]\n",
            "  [ 5 -3]\n",
            "  [ 7  9]]\n",
            "\n",
            " [[ 8  5]\n",
            "  [-2  2]\n",
            "  [26 -2]]\n",
            "\n",
            " [[ 1 -7]\n",
            "  [-3  2]\n",
            "  [-5 -2]]]\n",
            "(5, 3, 2)\n",
            "26\n",
            "[[ 3  5]\n",
            " [-3  2]\n",
            " [ 5 -3]\n",
            " [-2  2]\n",
            " [-3  2]]\n"
          ]
        }
      ]
    },
    {
      "cell_type": "code",
      "source": [
        "# 矩陣乘法\n",
        "a = np.array([[1,2],[3,4],[5,6]])\n",
        "b = np.array([[2,3,1],[5,2,1]])\n",
        "print(np.matmul(a,b))  # matrix multiply"
      ],
      "metadata": {
        "id": "T0_OQUN6-7DD"
      },
      "execution_count": null,
      "outputs": []
    },
    {
      "cell_type": "code",
      "source": [
        "# 乘法單位元素\n",
        "a = np.array([[1,2,3],[4,5,6],[7,8,9]])\n",
        "identity = np.identity(3)   # 單位矩陣 3*3\n",
        "print(np.matmul(a,identity))"
      ],
      "metadata": {
        "id": "yntB-2p--7Fd"
      },
      "execution_count": null,
      "outputs": []
    },
    {
      "cell_type": "code",
      "source": [
        "# statistics\n",
        "a = np.array([[92,83,56,77,98],[81,53,64,76,60]])\n",
        "# a :(2,5) => axis=0 :2 , axis=1 :5  從哪個方向找最大\n",
        "print(np.max(a,axis=0))\n",
        "print(np.max(a,axis=1))\n",
        "print(np.sum(a,axis=0))\n",
        "print(np.sum(a,axis=1))"
      ],
      "metadata": {
        "colab": {
          "base_uri": "https://localhost:8080/"
        },
        "id": "84IvS_9v-7IE",
        "outputId": "199667b4-8a15-481f-cc36-61a36e5c01f6"
      },
      "execution_count": 17,
      "outputs": [
        {
          "output_type": "stream",
          "name": "stdout",
          "text": [
            "[92 83 64 77 98]\n",
            "[98 81]\n",
            "[173 136 120 153 158]\n",
            "[406 334]\n"
          ]
        }
      ]
    },
    {
      "cell_type": "code",
      "source": [
        ""
      ],
      "metadata": {
        "id": "NT-vN0B6-7KZ"
      },
      "execution_count": null,
      "outputs": []
    }
  ]
}