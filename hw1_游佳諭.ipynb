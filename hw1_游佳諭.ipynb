{
  "nbformat": 4,
  "nbformat_minor": 0,
  "metadata": {
    "colab": {
      "name": "hw1_游佳諭.ipynb",
      "provenance": [],
      "collapsed_sections": [],
      "authorship_tag": "ABX9TyN2XCalgCxYG2Zi5ZCJNlhM",
      "include_colab_link": true
    },
    "kernelspec": {
      "name": "python3",
      "display_name": "Python 3"
    },
    "language_info": {
      "name": "python"
    }
  },
  "cells": [
    {
      "cell_type": "markdown",
      "metadata": {
        "id": "view-in-github",
        "colab_type": "text"
      },
      "source": [
        "<a href=\"https://colab.research.google.com/github/Jia-Yu-Yu/pycs4001/blob/main/hw1_%E6%B8%B8%E4%BD%B3%E8%AB%AD.ipynb\" target=\"_parent\"><img src=\"https://colab.research.google.com/assets/colab-badge.svg\" alt=\"Open In Colab\"/></a>"
      ]
    },
    {
      "cell_type": "markdown",
      "source": [
        "1."
      ],
      "metadata": {
        "id": "GHz0aBcgvIew"
      }
    },
    {
      "cell_type": "code",
      "source": [
        "try:\n",
        "    x = int(input(\"Enter a number: \"))\n",
        "    y = int(input(\"Enter a number: \"))\n",
        "    print(round(x/y,2))\n",
        "except ValueError:\n",
        "    print(\"請輸入正確數字格式\")"
      ],
      "metadata": {
        "id": "v5LsAfeFz7MF"
      },
      "execution_count": null,
      "outputs": []
    },
    {
      "cell_type": "markdown",
      "source": [
        "2. "
      ],
      "metadata": {
        "id": "JyuU-Asm1BgE"
      }
    },
    {
      "cell_type": "code",
      "source": [
        "x = int(input(\"Enter a number: \"))\n",
        "if (x % 2 == 0 and x % 3 == 0):\n",
        "  print(f\"{x}為6的倍數\")\n",
        "elif x % 2 == 0 :\n",
        "  print(f\"{x}為2的倍數\")\n",
        "elif x % 3 == 0 :\n",
        "  print(f\"{x}為3的倍數\")"
      ],
      "metadata": {
        "id": "OO5EQgWJ1DII"
      },
      "execution_count": null,
      "outputs": []
    },
    {
      "cell_type": "markdown",
      "source": [
        "3."
      ],
      "metadata": {
        "id": "bjeGAhUL3_kG"
      }
    },
    {
      "cell_type": "code",
      "source": [
        "n = int(input())\n",
        "if n < 86400 :\n",
        "  print(f\"{n//3600}時 {(n//60)%60}分 {n%60}秒\")"
      ],
      "metadata": {
        "id": "ytWZmkDn4Arr"
      },
      "execution_count": null,
      "outputs": []
    },
    {
      "cell_type": "markdown",
      "source": [
        "4."
      ],
      "metadata": {
        "id": "yu96QLu77GQj"
      }
    },
    {
      "cell_type": "code",
      "source": [
        "n = int(input(\"Enter a number: \"))\n",
        "i = 1\n",
        "while i < n :\n",
        "  if (n % 2 ==0 and i % 2 !=0) :\n",
        "    print(i,end=\" \")\n",
        "  i +=1"
      ],
      "metadata": {
        "id": "792kl9Sq7HS6"
      },
      "execution_count": null,
      "outputs": []
    }
  ]
}