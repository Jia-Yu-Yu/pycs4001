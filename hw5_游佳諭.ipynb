{
  "nbformat": 4,
  "nbformat_minor": 0,
  "metadata": {
    "colab": {
      "name": "hw5_游佳諭.ipynb",
      "provenance": [],
      "collapsed_sections": [],
      "mount_file_id": "1a0hiG9Q0TrrNufLgYLV67-6YUJ-E-lZx",
      "authorship_tag": "ABX9TyPbp+XeC/Ej5yzahBobJ8Kk",
      "include_colab_link": true
    },
    "kernelspec": {
      "name": "python3",
      "display_name": "Python 3"
    },
    "language_info": {
      "name": "python"
    }
  },
  "cells": [
    {
      "cell_type": "markdown",
      "metadata": {
        "id": "view-in-github",
        "colab_type": "text"
      },
      "source": [
        "<a href=\"https://colab.research.google.com/github/Jia-Yu-Yu/pycs4001/blob/main/hw5_%E6%B8%B8%E4%BD%B3%E8%AB%AD.ipynb\" target=\"_parent\"><img src=\"https://colab.research.google.com/assets/colab-badge.svg\" alt=\"Open In Colab\"/></a>"
      ]
    },
    {
      "cell_type": "code",
      "source": [
        "import numpy as np\n",
        "import matplotlib.pyplot as plt\n",
        "import pandas as pd\n",
        "from sklearn.model_selection import train_test_split\n",
        "from sklearn.linear_model import LinearRegression\n",
        "from sklearn.metrics import mean_squared_error\n",
        "from sklearn.preprocessing import StandardScaler\n",
        "path = \"drive/MyDrive/Colab-Notebooks/Salary_Data.csv\"\n",
        "datasets = pd.read_csv(path)\n",
        "\n",
        "scaler = StandardScaler()\n",
        "data_scaler = scaler.fit_transform(datasets)\n",
        "data_scaler = pd.DataFrame(data_scaler)\n",
        "\n",
        "X = data_scaler[0].values.reshape(-1, 1)\n",
        "Y = data_scaler[1].values.reshape(-1, 1)\n",
        "\n",
        "data_origin = scaler.inverse_transform(data_scaler)\n",
        "data_origin = pd.DataFrame(data_origin)\n",
        "\n",
        "x = data_origin[0].values.reshape(-1, 1)\n",
        "y = data_origin[1].values.reshape(-1, 1)\n",
        "\n",
        "train_x, test_x, train_y, test_y  = train_test_split(X, Y, test_size=0.2, random_state=10)\n",
        "\n",
        "regression = LinearRegression()\n",
        "regression.fit(train_x, train_y)\n",
        "Y_pred = regression.predict(X)\n",
        "y_hat = regression.predict(test_x)\n",
        "\n",
        "print(f\"evaluation MSE: {mean_squared_error(test_y, y_hat)}\")\n",
        "\n",
        "\n",
        "plt.scatter(X[:, 0], Y, s = 3)\n",
        "plt.plot(X,Y_pred, color = 'red')\n",
        "plt.show()"
      ],
      "metadata": {
        "colab": {
          "base_uri": "https://localhost:8080/",
          "height": 282
        },
        "id": "wDvTgKQ5uYOn",
        "outputId": "c5a8b58c-bd18-4b6b-bac4-74d868e6d15f"
      },
      "execution_count": 12,
      "outputs": [
        {
          "output_type": "stream",
          "name": "stdout",
          "text": [
            "evaluation MSE: 0.013469483940791926\n"
          ]
        },
        {
          "output_type": "display_data",
          "data": {
            "text/plain": [
              "<Figure size 432x288 with 1 Axes>"
            ],
            "image/png": "[encoded data removed]"
          },
          "metadata": {
            "needs_background": "light"
          }
        }
      ]
    }
  ]
}