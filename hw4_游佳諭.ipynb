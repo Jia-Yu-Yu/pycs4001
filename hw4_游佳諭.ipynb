{
  "nbformat": 4,
  "nbformat_minor": 0,
  "metadata": {
    "colab": {
      "name": "hw4_游佳諭.ipynb",
      "provenance": [],
      "collapsed_sections": [],
      "authorship_tag": "ABX9TyNCerzN8LSNmseP1DHVTcxE",
      "include_colab_link": true
    },
    "kernelspec": {
      "name": "python3",
      "display_name": "Python 3"
    },
    "language_info": {
      "name": "python"
    }
  },
  "cells": [
    {
      "cell_type": "markdown",
      "metadata": {
        "id": "view-in-github",
        "colab_type": "text"
      },
      "source": [
        "<a href=\"https://colab.research.google.com/github/Jia-Yu-Yu/pycs4001/blob/main/hw4_%E6%B8%B8%E4%BD%B3%E8%AB%AD.ipynb\" target=\"_parent\"><img src=\"https://colab.research.google.com/assets/colab-badge.svg\" alt=\"Open In Colab\"/></a>"
      ]
    },
    {
      "cell_type": "markdown",
      "source": [
        "# **1.**"
      ],
      "metadata": {
        "id": "ubmrPzveWwE8"
      }
    },
    {
      "cell_type": "code",
      "execution_count": null,
      "metadata": {
        "colab": {
          "base_uri": "https://localhost:8080/"
        },
        "id": "vOIBEK9hWoR6",
        "outputId": "fbccbcac-3c61-48ae-d98f-71b92a082f39"
      },
      "outputs": [
        {
          "output_type": "stream",
          "name": "stdout",
          "text": [
            "2 3 5\n",
            "5 7 8\n",
            "1 2\n",
            "3 10\n",
            "2 6\n",
            "[[2. 3. 5.]\n",
            " [5. 7. 8.]]\n",
            "[[ 1.  2.]\n",
            " [ 3. 10.]\n",
            " [ 2.  6.]]\n",
            "[[ 21.  64.]\n",
            " [ 42. 128.]]\n"
          ]
        }
      ],
      "source": [
        "import numpy as np\n",
        "A = np.empty(shape=(2,3))\n",
        "B = np.empty(shape=(3,2))\n",
        "\n",
        "for i in range(len(A)):\n",
        "  A[i]=input().split(' ')\n",
        "\n",
        "for i in range(len(B)):\n",
        "  B[i]=input().split(' ')\n",
        "\n",
        "print(A)\n",
        "print(B)\n",
        "print(np.matmul(A,B))"
      ]
    },
    {
      "cell_type": "code",
      "source": [
        "import numpy as np\n",
        "A = []\n",
        "B = []\n",
        "\n",
        "a = 2\n",
        "b = 3\n",
        "\n",
        "for i in range(a):\n",
        "  A.append(list(map(int, input().rstrip().split())))\n",
        "\n",
        "for i in range(b):\n",
        "  B.append(list(map(int, input().rstrip().split())))\n",
        "\n",
        "print(A)\n",
        "print(B)\n",
        "print(np.matmul(A,B))"
      ],
      "metadata": {
        "colab": {
          "base_uri": "https://localhost:8080/"
        },
        "id": "GgdcjspqemNz",
        "outputId": "a77bfe5a-6fe1-4029-fedd-5d4264d342e5"
      },
      "execution_count": null,
      "outputs": [
        {
          "output_type": "stream",
          "name": "stdout",
          "text": [
            "2 3 5\n",
            "5 7 8\n",
            "1 2\n",
            "3 10\n",
            "2 6\n",
            "[[2, 3, 5], [5, 7, 8]]\n",
            "[[1, 2], [3, 10], [2, 6]]\n",
            "[[ 21  64]\n",
            " [ 42 128]]\n"
          ]
        }
      ]
    },
    {
      "cell_type": "markdown",
      "source": [
        "# **2.**"
      ],
      "metadata": {
        "id": "YPW4DJeBWyZ8"
      }
    },
    {
      "cell_type": "code",
      "source": [
        "import numpy as np\n",
        "A = []\n",
        "B = []\n",
        "C = []\n",
        "\n",
        "for i in range(1):\n",
        "  A.append(list(map(int, input(\"A class: \").rstrip().split())))\n",
        "\n",
        "for i in range(1):\n",
        "  B.append(list(map(int, input(\"B class: \").rstrip().split())))\n",
        "\n",
        "for i in range(1):\n",
        "  C.append(list(map(int, input(\"C class: \").rstrip().split())))\n",
        "\n",
        "A_sum = int(np.sum(A,axis=1))\n",
        "A_max = int(np.max(A,axis=1))\n",
        "B_sum = int(np.sum(B,axis=1))\n",
        "B_max = int(np.max(B,axis=1))\n",
        "C_sum = int(np.sum(C,axis=1))\n",
        "C_max = int(np.max(C,axis=1))\n",
        "\n",
        "print()\n",
        "print(f\"A class 總和：{A_sum} , 最大：{A_max}\")\n",
        "print(f\"B class 總和：{B_sum} , 最大：{B_max}\")\n",
        "print(f\"C class 總和：{C_sum} , 最大：{C_max}\")"
      ],
      "metadata": {
        "colab": {
          "base_uri": "https://localhost:8080/"
        },
        "id": "dt5KE59ZpXpF",
        "outputId": "53207ca9-3e18-4e87-b3ae-cfac925afb67"
      },
      "execution_count": null,
      "outputs": [
        {
          "output_type": "stream",
          "name": "stdout",
          "text": [
            "A class: 32 57 89\n",
            "B class: 88 93 20\n",
            "C class: 82 75 88\n",
            "\n",
            "A class 總和：178 , 最大：89\n",
            "B class 總和：201 , 最大：89\n",
            "C class 總和：245 , 最大：89\n"
          ]
        }
      ]
    }
  ]
}