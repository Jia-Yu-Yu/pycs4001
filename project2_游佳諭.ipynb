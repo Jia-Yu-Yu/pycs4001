{
  "nbformat": 4,
  "nbformat_minor": 0,
  "metadata": {
    "colab": {
      "name": "project2_游佳諭.ipynb",
      "provenance": [],
      "mount_file_id": "1bWhOnZzW4Txx9qrwKth_W-OUUIxNSTCn",
      "authorship_tag": "ABX9TyME5QScwgkaXGV8u+lQxCPj",
      "include_colab_link": true
    },
    "kernelspec": {
      "name": "python3",
      "display_name": "Python 3"
    },
    "language_info": {
      "name": "python"
    }
  },
  "cells": [
    {
      "cell_type": "markdown",
      "metadata": {
        "id": "view-in-github",
        "colab_type": "text"
      },
      "source": [
        "<a href=\"https://colab.research.google.com/github/Jia-Yu-Yu/pycs4001/blob/main/project2_%E6%B8%B8%E4%BD%B3%E8%AB%AD.ipynb\" target=\"_parent\"><img src=\"https://colab.research.google.com/assets/colab-badge.svg\" alt=\"Open In Colab\"/></a>"
      ]
    },
    {
      "cell_type": "code",
      "execution_count": 1,
      "metadata": {
        "id": "Yjy5S-AY2tLb"
      },
      "outputs": [],
      "source": [
        "import numpy as np # linear algebra\n",
        "import pandas as pd # data processing, CSV file I/O (e.g. pd.read_csv)\n",
        "import seaborn as sns\n",
        "import warnings\n",
        "warnings.filterwarnings(\"ignore\")\n",
        "import matplotlib.pyplot as plt\n",
        "from sklearn import metrics\n",
        "from sklearn.model_selection import train_test_split\n",
        "from sklearn.linear_model import LogisticRegression\n",
        "from sklearn.metrics import accuracy_score\n",
        "from sklearn.ensemble import RandomForestClassifier \n",
        "from sklearn.model_selection import cross_val_score\n",
        "from sklearn.metrics import plot_roc_curve\n",
        "from sklearn.model_selection import GridSearchCV\n",
        "\n",
        "import os\n",
        "for dirname, _, filenames in os.walk('/kaggle/input'):\n",
        "    for filename in filenames:\n",
        "        print(os.path.join(dirname, filename))"
      ]
    },
    {
      "cell_type": "code",
      "source": [
        "train = pd.read_csv('/content/drive/MyDrive/Colab-Notebooks/pycs4001_project02/spaceship-titanic/train.csv')\n",
        "test = pd.read_csv('/content/drive/MyDrive/Colab-Notebooks/pycs4001_project02/spaceship-titanic/test.csv')\n",
        "test.head()"
      ],
      "metadata": {
        "colab": {
          "base_uri": "https://localhost:8080/",
          "height": 204
        },
        "id": "gmZzxESM9vYg",
        "outputId": "8c3ec81c-4726-44e1-a6de-900e10f10deb"
      },
      "execution_count": 2,
      "outputs": [
        {
          "output_type": "execute_result",
          "data": {
            "text/plain": [
              "  PassengerId HomePlanet CryoSleep  Cabin  Destination   Age    VIP  \\\n",
              "0     0013_01      Earth      True  G/3/S  TRAPPIST-1e  27.0  False   \n",
              "1     0018_01      Earth     False  F/4/S  TRAPPIST-1e  19.0  False   \n",
              "2     0019_01     Europa      True  C/0/S  55 Cancri e  31.0  False   \n",
              "3     0021_01     Europa     False  C/1/S  TRAPPIST-1e  38.0  False   \n",
              "4     0023_01      Earth     False  F/5/S  TRAPPIST-1e  20.0  False   \n",
              "\n",
              "   RoomService  FoodCourt  ShoppingMall     Spa  VRDeck              Name  \n",
              "0          0.0        0.0           0.0     0.0     0.0   Nelly Carsoning  \n",
              "1          0.0        9.0           0.0  2823.0     0.0    Lerome Peckers  \n",
              "2          0.0        0.0           0.0     0.0     0.0   Sabih Unhearfus  \n",
              "3          0.0     6652.0           0.0   181.0   585.0  Meratz Caltilter  \n",
              "4         10.0        0.0         635.0     0.0     0.0   Brence Harperez  "
            ],
            "text/html": [
              "\n",
              "  <div id=\"df-6a19ba70-f3bd-4136-bcd5-09f9992e62a9\">\n",
              "    <div class=\"colab-df-container\">\n",
              "      <div>\n",
              "<style scoped>\n",
              "    .dataframe tbody tr th:only-of-type {\n",
              "        vertical-align: middle;\n",
              "    }\n",
              "\n",
              "    .dataframe tbody tr th {\n",
              "        vertical-align: top;\n",
              "    }\n",
              "\n",
              "    .dataframe thead th {\n",
              "        text-align: right;\n",
              "    }\n",
              "</style>\n",
              "<table border=\"1\" class=\"dataframe\">\n",
              "  <thead>\n",
              "    <tr style=\"text-align: right;\">\n",
              "      <th></th>\n",
              "      <th>PassengerId</th>\n",
              "      <th>HomePlanet</th>\n",
              "      <th>CryoSleep</th>\n",
              "      <th>Cabin</th>\n",
              "      <th>Destination</th>\n",
              "      <th>Age</th>\n",
              "      <th>VIP</th>\n",
              "      <th>RoomService</th>\n",
              "      <th>FoodCourt</th>\n",
              "      <th>ShoppingMall</th>\n",
              "      <th>Spa</th>\n",
              "      <th>VRDeck</th>\n",
              "      <th>Name</th>\n",
              "    </tr>\n",
              "  </thead>\n",
              "  <tbody>\n",
              "    <tr>\n",
              "      <th>0</th>\n",
              "      <td>0013_01</td>\n",
              "      <td>Earth</td>\n",
              "      <td>True</td>\n",
              "      <td>G/3/S</td>\n",
              "      <td>TRAPPIST-1e</td>\n",
              "      <td>27.0</td>\n",
              "      <td>False</td>\n",
              "      <td>0.0</td>\n",
              "      <td>0.0</td>\n",
              "      <td>0.0</td>\n",
              "      <td>0.0</td>\n",
              "      <td>0.0</td>\n",
              "      <td>Nelly Carsoning</td>\n",
              "    </tr>\n",
              "    <tr>\n",
              "      <th>1</th>\n",
              "      <td>0018_01</td>\n",
              "      <td>Earth</td>\n",
              "      <td>False</td>\n",
              "      <td>F/4/S</td>\n",
              "      <td>TRAPPIST-1e</td>\n",
              "      <td>19.0</td>\n",
              "      <td>False</td>\n",
              "      <td>0.0</td>\n",
              "      <td>9.0</td>\n",
              "      <td>0.0</td>\n",
              "      <td>2823.0</td>\n",
              "      <td>0.0</td>\n",
              "      <td>Lerome Peckers</td>\n",
              "    </tr>\n",
              "    <tr>\n",
              "      <th>2</th>\n",
              "      <td>0019_01</td>\n",
              "      <td>Europa</td>\n",
              "      <td>True</td>\n",
              "      <td>C/0/S</td>\n",
              "      <td>55 Cancri e</td>\n",
              "      <td>31.0</td>\n",
              "      <td>False</td>\n",
              "      <td>0.0</td>\n",
              "      <td>0.0</td>\n",
              "      <td>0.0</td>\n",
              "      <td>0.0</td>\n",
              "      <td>0.0</td>\n",
              "      <td>Sabih Unhearfus</td>\n",
              "    </tr>\n",
              "    <tr>\n",
              "      <th>3</th>\n",
              "      <td>0021_01</td>\n",
              "      <td>Europa</td>\n",
              "      <td>False</td>\n",
              "      <td>C/1/S</td>\n",
              "      <td>TRAPPIST-1e</td>\n",
              "      <td>38.0</td>\n",
              "      <td>False</td>\n",
              "      <td>0.0</td>\n",
              "      <td>6652.0</td>\n",
              "      <td>0.0</td>\n",
              "      <td>181.0</td>\n",
              "      <td>585.0</td>\n",
              "      <td>Meratz Caltilter</td>\n",
              "    </tr>\n",
              "    <tr>\n",
              "      <th>4</th>\n",
              "      <td>0023_01</td>\n",
              "      <td>Earth</td>\n",
              "      <td>False</td>\n",
              "      <td>F/5/S</td>\n",
              "      <td>TRAPPIST-1e</td>\n",
              "      <td>20.0</td>\n",
              "      <td>False</td>\n",
              "      <td>10.0</td>\n",
              "      <td>0.0</td>\n",
              "      <td>635.0</td>\n",
              "      <td>0.0</td>\n",
              "      <td>0.0</td>\n",
              "      <td>Brence Harperez</td>\n",
              "    </tr>\n",
              "  </tbody>\n",
              "</table>\n",
              "</div>\n",
              "      <button class=\"colab-df-convert\" onclick=\"convertToInteractive('df-6a19ba70-f3bd-4136-bcd5-09f9992e62a9')\"\n",
              "              title=\"Convert this dataframe to an interactive table.\"\n",
              "              style=\"display:none;\">\n",
              "        \n",
              "  <svg xmlns=\"http://www.w3.org/2000/svg\" height=\"24px\"viewBox=\"0 0 24 24\"\n",
              "       width=\"24px\">\n",
              "    <path d=\"M0 0h24v24H0V0z\" fill=\"none\"/>\n",
              "    <path d=\"M18.56 5.44l.94 2.06.94-2.06 2.06-.94-2.06-.94-.94-2.06-.94 2.06-2.06.94zm-11 1L8.5 8.5l.94-2.06 2.06-.94-2.06-.94L8.5 2.5l-.94 2.06-2.06.94zm10 10l.94 2.06.94-2.06 2.06-.94-2.06-.94-.94-2.06-.94 2.06-2.06.94z\"/><path d=\"M17.41 7.96l-1.37-1.37c-.4-.4-.92-.59-1.43-.59-.52 0-1.04.2-1.43.59L10.3 9.45l-7.72 7.72c-.78.78-.78 2.05 0 2.83L4 21.41c.39.39.9.59 1.41.59.51 0 1.02-.2 1.41-.59l7.78-7.78 2.81-2.81c.8-.78.8-2.07 0-2.86zM5.41 20L4 18.59l7.72-7.72 1.47 1.35L5.41 20z\"/>\n",
              "  </svg>\n",
              "      </button>\n",
              "      \n",
              "  <style>\n",
              "    .colab-df-container {\n",
              "      display:flex;\n",
              "      flex-wrap:wrap;\n",
              "      gap: 12px;\n",
              "    }\n",
              "\n",
              "    .colab-df-convert {\n",
              "      background-color: #E8F0FE;\n",
              "      border: none;\n",
              "      border-radius: 50%;\n",
              "      cursor: pointer;\n",
              "      display: none;\n",
              "      fill: #1967D2;\n",
              "      height: 32px;\n",
              "      padding: 0 0 0 0;\n",
              "      width: 32px;\n",
              "    }\n",
              "\n",
              "    .colab-df-convert:hover {\n",
              "      background-color: #E2EBFA;\n",
              "      box-shadow: 0px 1px 2px rgba(60, 64, 67, 0.3), 0px 1px 3px 1px rgba(60, 64, 67, 0.15);\n",
              "      fill: #174EA6;\n",
              "    }\n",
              "\n",
              "    [theme=dark] .colab-df-convert {\n",
              "      background-color: #3B4455;\n",
              "      fill: #D2E3FC;\n",
              "    }\n",
              "\n",
              "    [theme=dark] .colab-df-convert:hover {\n",
              "      background-color: #434B5C;\n",
              "      box-shadow: 0px 1px 3px 1px rgba(0, 0, 0, 0.15);\n",
              "      filter: drop-shadow(0px 1px 2px rgba(0, 0, 0, 0.3));\n",
              "      fill: #FFFFFF;\n",
              "    }\n",
              "  </style>\n",
              "\n",
              "      <script>\n",
              "        const buttonEl =\n",
              "          document.querySelector('#df-6a19ba70-f3bd-4136-bcd5-09f9992e62a9 button.colab-df-convert');\n",
              "        buttonEl.style.display =\n",
              "          google.colab.kernel.accessAllowed ? 'block' : 'none';\n",
              "\n",
              "        async function convertToInteractive(key) {\n",
              "          const element = document.querySelector('#df-6a19ba70-f3bd-4136-bcd5-09f9992e62a9');\n",
              "          const dataTable =\n",
              "            await google.colab.kernel.invokeFunction('convertToInteractive',\n",
              "                                                     [key], {});\n",
              "          if (!dataTable) return;\n",
              "\n",
              "          const docLinkHtml = 'Like what you see? Visit the ' +\n",
              "            '<a target=\"_blank\" href=https://colab.research.google.com/notebooks/data_table.ipynb>data table notebook</a>'\n",
              "            + ' to learn more about interactive tables.';\n",
              "          element.innerHTML = '';\n",
              "          dataTable['output_type'] = 'display_data';\n",
              "          await google.colab.output.renderOutput(dataTable, element);\n",
              "          const docLink = document.createElement('div');\n",
              "          docLink.innerHTML = docLinkHtml;\n",
              "          element.appendChild(docLink);\n",
              "        }\n",
              "      </script>\n",
              "    </div>\n",
              "  </div>\n",
              "  "
            ]
          },
          "metadata": {},
          "execution_count": 2
        }
      ]
    },
    {
      "cell_type": "code",
      "source": [
        "# Checking for missing values\n",
        "value_list = ['HomePlanet', 'Destination', 'VIP', 'Transported', 'CryoSleep', 'Age']\n",
        "\n",
        "for i in value_list:\n",
        "    print(train[i].value_counts())\n",
        "    print(f'Missing: {train[i].isna().sum()}')\n",
        "    print('------'*6)\n",
        "print(train['Cabin'].str[0].value_counts())"
      ],
      "metadata": {
        "colab": {
          "base_uri": "https://localhost:8080/"
        },
        "id": "Y5Z4CNqm9va5",
        "outputId": "0ea37f33-ecf8-41b1-f9c6-81e6bb3e5848"
      },
      "execution_count": 3,
      "outputs": [
        {
          "output_type": "stream",
          "name": "stdout",
          "text": [
            "Earth     4602\n",
            "Europa    2131\n",
            "Mars      1759\n",
            "Name: HomePlanet, dtype: int64\n",
            "Missing: 201\n",
            "------------------------------------\n",
            "TRAPPIST-1e      5915\n",
            "55 Cancri e      1800\n",
            "PSO J318.5-22     796\n",
            "Name: Destination, dtype: int64\n",
            "Missing: 182\n",
            "------------------------------------\n",
            "False    8291\n",
            "True      199\n",
            "Name: VIP, dtype: int64\n",
            "Missing: 203\n",
            "------------------------------------\n",
            "True     4378\n",
            "False    4315\n",
            "Name: Transported, dtype: int64\n",
            "Missing: 0\n",
            "------------------------------------\n",
            "False    5439\n",
            "True     3037\n",
            "Name: CryoSleep, dtype: int64\n",
            "Missing: 217\n",
            "------------------------------------\n",
            "24.0    324\n",
            "18.0    320\n",
            "21.0    311\n",
            "19.0    293\n",
            "23.0    292\n",
            "       ... \n",
            "72.0      4\n",
            "78.0      3\n",
            "79.0      3\n",
            "76.0      2\n",
            "77.0      2\n",
            "Name: Age, Length: 80, dtype: int64\n",
            "Missing: 179\n",
            "------------------------------------\n",
            "F    2794\n",
            "G    2559\n",
            "E     876\n",
            "B     779\n",
            "C     747\n",
            "D     478\n",
            "A     256\n",
            "T       5\n",
            "Name: Cabin, dtype: int64\n"
          ]
        }
      ]
    },
    {
      "cell_type": "code",
      "source": [
        "#Filling the NaN values with the mode value.\n",
        "#Age filled with median value.\n",
        "for i in train.columns:\n",
        "    if i == 'Age':\n",
        "        fill = train[i].mean()\n",
        "    else:\n",
        "        fill = train[i].value_counts().index[0]\n",
        "    train[i] = train[i].fillna(fill)  \n",
        "    \n",
        "for i in test.columns:\n",
        "    if i == 'Age':\n",
        "        fill = test[i].mean()\n",
        "    else:\n",
        "        fill = test[i].value_counts().index[0] \n",
        "    test[i] = test[i].fillna(fill) \n",
        "    "
      ],
      "metadata": {
        "id": "yX9byanK9vd-"
      },
      "execution_count": 4,
      "outputs": []
    },
    {
      "cell_type": "code",
      "source": [
        "# Splitting 'Cabin' into three new attributes; 'Deck', 'Num', and 'Side'\n",
        "index = 0\n",
        "Deck = []\n",
        "Num = []\n",
        "Side = []\n",
        "\n",
        "for i in train['Cabin']:\n",
        "    Deck.append(i.split('/')[0])\n",
        "    Num.append(i.split('/')[1])\n",
        "    Side.append(i.split('/')[2])\n",
        "    index += 1\n",
        "train['Deck'], train['Num'], train['Side'] = [Deck, Num, Side] "
      ],
      "metadata": {
        "id": "iueYg1ob9vg2"
      },
      "execution_count": 5,
      "outputs": []
    },
    {
      "cell_type": "code",
      "source": [
        "index = 0\n",
        "Deck = []\n",
        "Num = []\n",
        "Side = []\n",
        "\n",
        "for i in test['Cabin']:\n",
        "    Deck.append(i.split('/')[0])\n",
        "    Num.append(i.split('/')[1])\n",
        "    Side.append(i.split('/')[2])\n",
        "    index += 1\n",
        "test['Deck'], test['Num'], test['Side'] = [Deck, Num, Side] "
      ],
      "metadata": {
        "id": "TNxPXnXS9vju"
      },
      "execution_count": 6,
      "outputs": []
    },
    {
      "cell_type": "code",
      "source": [
        "# Breaking ages into Groups\n",
        "def age_group(s):\n",
        "    if s == 0:\n",
        "        return -1\n",
        "    elif (s > 0) & (s <= 11):\n",
        "        return 1\n",
        "    elif (s > 11) & (s <= 22):\n",
        "        return 2\n",
        "    elif (s > 22) & (s <= 33):\n",
        "        return 3\n",
        "    elif (s > 33) & (s <= 45):\n",
        "        return 4\n",
        "    elif (s > 45) & (s <= 56):\n",
        "        return 5\n",
        "    elif (s > 56) & (s <= 67):\n",
        "        return 6\n",
        "    elif (s > 67) & (s <= 79):\n",
        "        return 7\n",
        "    elif (s > 79) & (s <= 80):\n",
        "        return 8\n",
        "    \n",
        "train['Age_Group'] = train['Age'].apply(age_group)\n",
        "test['Age_Group'] = test['Age'].apply(age_group)"
      ],
      "metadata": {
        "id": "sr6-e3979vmX"
      },
      "execution_count": 7,
      "outputs": []
    },
    {
      "cell_type": "code",
      "source": [
        "col_list = ['Deck', 'Side']\n",
        "plt.figure(figsize = (10, 15))\n",
        "sns.set_style('darkgrid')\n",
        "for index, i in enumerate(col_list):\n",
        "    with plt.style.context(\"ggplot\"):\n",
        "        plt.subplot(4, 2,index+1)\n",
        "        plt.tight_layout()\n",
        "        plt.title(f\"Transported compared with {i}\")\n",
        "        sns.countplot(i, hue = 'Transported', data = train)"
      ],
      "metadata": {
        "colab": {
          "base_uri": "https://localhost:8080/",
          "height": 309
        },
        "id": "yq03x5CS-BTT",
        "outputId": "ead554ad-71a6-4299-c60c-4464cf8effa4"
      },
      "execution_count": 8,
      "outputs": [
        {
          "output_type": "display_data",
          "data": {
            "text/plain": [
              "<Figure size 720x1080 with 2 Axes>"
            ],
            "image/png": "[encoded data removed]"
          },
          "metadata": {
            "needs_background": "light"
          }
        }
      ]
    },
    {
      "cell_type": "code",
      "source": [
        "list = ['CryoSleep', 'VIP', 'Destination','HomePlanet', 'Age_Group']\n",
        "plt.figure(figsize = (15, 8))\n",
        "sns.set_style('darkgrid')\n",
        "for index, i in enumerate(list):\n",
        "    with plt.style.context(\"ggplot\"):\n",
        "        plt.subplot(2, 3,index+1)\n",
        "        plt.tight_layout()\n",
        "        plt.title(f\"Transported compared with {i}\")\n",
        "        sns.countplot(i, hue = 'Transported', data = train)\n",
        "with plt.style.context(\"ggplot\"):\n",
        "    plt.subplot(2, 3, 6)\n",
        "    plt.title(f\"CryoSleep compared with Age_Group\")\n",
        "    sns.countplot('Age_Group', hue = 'CryoSleep', data = train)"
      ],
      "metadata": {
        "colab": {
          "base_uri": "https://localhost:8080/",
          "height": 585
        },
        "id": "slg0pn5G-BV_",
        "outputId": "0a062429-e01d-47e9-b6f0-5ff18d148840"
      },
      "execution_count": 9,
      "outputs": [
        {
          "output_type": "display_data",
          "data": {
            "text/plain": [
              "<Figure size 1080x576 with 6 Axes>"
            ],
            "image/png": "[encoded data removed]"
          },
          "metadata": {}
        }
      ]
    },
    {
      "cell_type": "code",
      "source": [
        "corr = train.corr()\n",
        "corr.style.background_gradient(cmap='seismic')"
      ],
      "metadata": {
        "colab": {
          "base_uri": "https://localhost:8080/",
          "height": 359
        },
        "id": "acDgSKzc-BYp",
        "outputId": "b1dd259a-72b8-4b56-8679-74f8833c5987"
      },
      "execution_count": 10,
      "outputs": [
        {
          "output_type": "execute_result",
          "data": {
            "text/plain": [
              "<pandas.io.formats.style.Styler at 0x7fa29874ad10>"
            ],
            "text/html": [
              "<style type=\"text/css\">\n",
              "#T_d3a35_row0_col0, #T_d3a35_row1_col1, #T_d3a35_row2_col2, #T_d3a35_row3_col3, #T_d3a35_row4_col4, #T_d3a35_row5_col5, #T_d3a35_row6_col6, #T_d3a35_row7_col7, #T_d3a35_row8_col8, #T_d3a35_row9_col9 {\n",
              "  background-color: #800000;\n",
              "  color: #f1f1f1;\n",
              "}\n",
              "#T_d3a35_row0_col1, #T_d3a35_row0_col2, #T_d3a35_row0_col3, #T_d3a35_row0_col4, #T_d3a35_row0_col5, #T_d3a35_row3_col0, #T_d3a35_row3_col8, #T_d3a35_row8_col1, #T_d3a35_row8_col3, #T_d3a35_row8_col6, #T_d3a35_row8_col7, #T_d3a35_row8_col9 {\n",
              "  background-color: #00004c;\n",
              "  color: #f1f1f1;\n",
              "}\n",
              "#T_d3a35_row0_col6, #T_d3a35_row6_col8 {\n",
              "  background-color: #000058;\n",
              "  color: #f1f1f1;\n",
              "}\n",
              "#T_d3a35_row0_col7 {\n",
              "  background-color: #000052;\n",
              "  color: #f1f1f1;\n",
              "}\n",
              "#T_d3a35_row0_col8, #T_d3a35_row8_col0 {\n",
              "  background-color: #ffbdbd;\n",
              "  color: #000000;\n",
              "}\n",
              "#T_d3a35_row0_col9 {\n",
              "  background-color: #000055;\n",
              "  color: #f1f1f1;\n",
              "}\n",
              "#T_d3a35_row1_col0 {\n",
              "  background-color: #0000ae;\n",
              "  color: #f1f1f1;\n",
              "}\n",
              "#T_d3a35_row1_col2, #T_d3a35_row3_col4, #T_d3a35_row5_col4 {\n",
              "  background-color: #0000bc;\n",
              "  color: #f1f1f1;\n",
              "}\n",
              "#T_d3a35_row1_col3, #T_d3a35_row1_col7, #T_d3a35_row9_col3, #T_d3a35_row9_col7 {\n",
              "  background-color: #0101ff;\n",
              "  color: #f1f1f1;\n",
              "}\n",
              "#T_d3a35_row1_col4, #T_d3a35_row2_col4, #T_d3a35_row9_col4 {\n",
              "  background-color: #1919ff;\n",
              "  color: #f1f1f1;\n",
              "}\n",
              "#T_d3a35_row1_col5, #T_d3a35_row5_col8, #T_d3a35_row9_col5 {\n",
              "  background-color: #0000db;\n",
              "  color: #f1f1f1;\n",
              "}\n",
              "#T_d3a35_row1_col6 {\n",
              "  background-color: #1d1dff;\n",
              "  color: #f1f1f1;\n",
              "}\n",
              "#T_d3a35_row1_col8, #T_d3a35_row2_col0, #T_d3a35_row3_col1, #T_d3a35_row9_col8 {\n",
              "  background-color: #0000ac;\n",
              "  color: #f1f1f1;\n",
              "}\n",
              "#T_d3a35_row1_col9, #T_d3a35_row9_col1 {\n",
              "  background-color: #8e0000;\n",
              "  color: #f1f1f1;\n",
              "}\n",
              "#T_d3a35_row2_col1, #T_d3a35_row2_col9, #T_d3a35_row3_col7, #T_d3a35_row9_col2 {\n",
              "  background-color: #0000ba;\n",
              "  color: #f1f1f1;\n",
              "}\n",
              "#T_d3a35_row2_col3 {\n",
              "  background-color: #0000f7;\n",
              "  color: #f1f1f1;\n",
              "}\n",
              "#T_d3a35_row2_col5, #T_d3a35_row3_col6, #T_d3a35_row4_col3, #T_d3a35_row4_col9, #T_d3a35_row6_col5, #T_d3a35_row7_col2 {\n",
              "  background-color: #0000d0;\n",
              "  color: #f1f1f1;\n",
              "}\n",
              "#T_d3a35_row2_col6 {\n",
              "  background-color: #0000ef;\n",
              "  color: #f1f1f1;\n",
              "}\n",
              "#T_d3a35_row2_col7, #T_d3a35_row9_col6 {\n",
              "  background-color: #1515ff;\n",
              "  color: #f1f1f1;\n",
              "}\n",
              "#T_d3a35_row2_col8, #T_d3a35_row7_col5 {\n",
              "  background-color: #0000c2;\n",
              "  color: #f1f1f1;\n",
              "}\n",
              "#T_d3a35_row3_col2 {\n",
              "  background-color: #0000a6;\n",
              "  color: #f1f1f1;\n",
              "}\n",
              "#T_d3a35_row3_col5 {\n",
              "  background-color: #0000e6;\n",
              "  color: #f1f1f1;\n",
              "}\n",
              "#T_d3a35_row3_col9, #T_d3a35_row6_col2 {\n",
              "  background-color: #0000a9;\n",
              "  color: #f1f1f1;\n",
              "}\n",
              "#T_d3a35_row4_col0, #T_d3a35_row5_col0, #T_d3a35_row7_col8 {\n",
              "  background-color: #000060;\n",
              "  color: #f1f1f1;\n",
              "}\n",
              "#T_d3a35_row4_col1, #T_d3a35_row4_col2, #T_d3a35_row5_col6 {\n",
              "  background-color: #0000d3;\n",
              "  color: #f1f1f1;\n",
              "}\n",
              "#T_d3a35_row4_col5, #T_d3a35_row5_col7, #T_d3a35_row7_col1, #T_d3a35_row7_col9 {\n",
              "  background-color: #0000bf;\n",
              "  color: #f1f1f1;\n",
              "}\n",
              "#T_d3a35_row4_col6 {\n",
              "  background-color: #7171ff;\n",
              "  color: #f1f1f1;\n",
              "}\n",
              "#T_d3a35_row4_col7, #T_d3a35_row7_col4 {\n",
              "  background-color: #6d6dff;\n",
              "  color: #f1f1f1;\n",
              "}\n",
              "#T_d3a35_row4_col8 {\n",
              "  background-color: #0000f2;\n",
              "  color: #f1f1f1;\n",
              "}\n",
              "#T_d3a35_row5_col1 {\n",
              "  background-color: #000092;\n",
              "  color: #f1f1f1;\n",
              "}\n",
              "#T_d3a35_row5_col2 {\n",
              "  background-color: #00008a;\n",
              "  color: #f1f1f1;\n",
              "}\n",
              "#T_d3a35_row5_col3 {\n",
              "  background-color: #0000f4;\n",
              "  color: #f1f1f1;\n",
              "}\n",
              "#T_d3a35_row5_col9 {\n",
              "  background-color: #000095;\n",
              "  color: #f1f1f1;\n",
              "}\n",
              "#T_d3a35_row6_col0, #T_d3a35_row8_col2 {\n",
              "  background-color: #000066;\n",
              "  color: #f1f1f1;\n",
              "}\n",
              "#T_d3a35_row6_col1, #T_d3a35_row7_col3, #T_d3a35_row8_col5 {\n",
              "  background-color: #0000cd;\n",
              "  color: #f1f1f1;\n",
              "}\n",
              "#T_d3a35_row6_col3 {\n",
              "  background-color: #0000de;\n",
              "  color: #f1f1f1;\n",
              "}\n",
              "#T_d3a35_row6_col4 {\n",
              "  background-color: #6969ff;\n",
              "  color: #f1f1f1;\n",
              "}\n",
              "#T_d3a35_row6_col7 {\n",
              "  background-color: #2929ff;\n",
              "  color: #f1f1f1;\n",
              "}\n",
              "#T_d3a35_row6_col9 {\n",
              "  background-color: #0000c8;\n",
              "  color: #f1f1f1;\n",
              "}\n",
              "#T_d3a35_row7_col0 {\n",
              "  background-color: #000068;\n",
              "  color: #f1f1f1;\n",
              "}\n",
              "#T_d3a35_row7_col6 {\n",
              "  background-color: #3131ff;\n",
              "  color: #f1f1f1;\n",
              "}\n",
              "#T_d3a35_row8_col4 {\n",
              "  background-color: #0000e1;\n",
              "  color: #f1f1f1;\n",
              "}\n",
              "#T_d3a35_row9_col0 {\n",
              "  background-color: #0000b7;\n",
              "  color: #f1f1f1;\n",
              "}\n",
              "</style>\n",
              "<table id=\"T_d3a35_\" class=\"dataframe\">\n",
              "  <thead>\n",
              "    <tr>\n",
              "      <th class=\"blank level0\" >&nbsp;</th>\n",
              "      <th class=\"col_heading level0 col0\" >CryoSleep</th>\n",
              "      <th class=\"col_heading level0 col1\" >Age</th>\n",
              "      <th class=\"col_heading level0 col2\" >VIP</th>\n",
              "      <th class=\"col_heading level0 col3\" >RoomService</th>\n",
              "      <th class=\"col_heading level0 col4\" >FoodCourt</th>\n",
              "      <th class=\"col_heading level0 col5\" >ShoppingMall</th>\n",
              "      <th class=\"col_heading level0 col6\" >Spa</th>\n",
              "      <th class=\"col_heading level0 col7\" >VRDeck</th>\n",
              "      <th class=\"col_heading level0 col8\" >Transported</th>\n",
              "      <th class=\"col_heading level0 col9\" >Age_Group</th>\n",
              "    </tr>\n",
              "  </thead>\n",
              "  <tbody>\n",
              "    <tr>\n",
              "      <th id=\"T_d3a35_level0_row0\" class=\"row_heading level0 row0\" >CryoSleep</th>\n",
              "      <td id=\"T_d3a35_row0_col0\" class=\"data row0 col0\" >1.000000</td>\n",
              "      <td id=\"T_d3a35_row0_col1\" class=\"data row0 col1\" >-0.070736</td>\n",
              "      <td id=\"T_d3a35_row0_col2\" class=\"data row0 col2\" >-0.078281</td>\n",
              "      <td id=\"T_d3a35_row0_col3\" class=\"data row0 col3\" >-0.244089</td>\n",
              "      <td id=\"T_d3a35_row0_col4\" class=\"data row0 col4\" >-0.205928</td>\n",
              "      <td id=\"T_d3a35_row0_col5\" class=\"data row0 col5\" >-0.207798</td>\n",
              "      <td id=\"T_d3a35_row0_col6\" class=\"data row0 col6\" >-0.198307</td>\n",
              "      <td id=\"T_d3a35_row0_col7\" class=\"data row0 col7\" >-0.192721</td>\n",
              "      <td id=\"T_d3a35_row0_col8\" class=\"data row0 col8\" >0.460132</td>\n",
              "      <td id=\"T_d3a35_row0_col9\" class=\"data row0 col9\" >-0.058800</td>\n",
              "    </tr>\n",
              "    <tr>\n",
              "      <th id=\"T_d3a35_level0_row1\" class=\"row_heading level0 row1\" >Age</th>\n",
              "      <td id=\"T_d3a35_row1_col0\" class=\"data row1 col0\" >-0.070736</td>\n",
              "      <td id=\"T_d3a35_row1_col1\" class=\"data row1 col1\" >1.000000</td>\n",
              "      <td id=\"T_d3a35_row1_col2\" class=\"data row1 col2\" >0.091574</td>\n",
              "      <td id=\"T_d3a35_row1_col3\" class=\"data row1 col3\" >0.068425</td>\n",
              "      <td id=\"T_d3a35_row1_col4\" class=\"data row1 col4\" >0.127343</td>\n",
              "      <td id=\"T_d3a35_row1_col5\" class=\"data row1 col5\" >0.032846</td>\n",
              "      <td id=\"T_d3a35_row1_col6\" class=\"data row1 col6\" >0.121071</td>\n",
              "      <td id=\"T_d3a35_row1_col7\" class=\"data row1 col7\" >0.099551</td>\n",
              "      <td id=\"T_d3a35_row1_col8\" class=\"data row1 col8\" >-0.074249</td>\n",
              "      <td id=\"T_d3a35_row1_col9\" class=\"data row1 col9\" >0.966617</td>\n",
              "    </tr>\n",
              "    <tr>\n",
              "      <th id=\"T_d3a35_level0_row2\" class=\"row_heading level0 row2\" >VIP</th>\n",
              "      <td id=\"T_d3a35_row2_col0\" class=\"data row2 col0\" >-0.078281</td>\n",
              "      <td id=\"T_d3a35_row2_col1\" class=\"data row2 col1\" >0.091574</td>\n",
              "      <td id=\"T_d3a35_row2_col2\" class=\"data row2 col2\" >1.000000</td>\n",
              "      <td id=\"T_d3a35_row2_col3\" class=\"data row2 col3\" >0.056566</td>\n",
              "      <td id=\"T_d3a35_row2_col4\" class=\"data row2 col4\" >0.125499</td>\n",
              "      <td id=\"T_d3a35_row2_col5\" class=\"data row2 col5\" >0.018412</td>\n",
              "      <td id=\"T_d3a35_row2_col6\" class=\"data row2 col6\" >0.060991</td>\n",
              "      <td id=\"T_d3a35_row2_col7\" class=\"data row2 col7\" >0.123061</td>\n",
              "      <td id=\"T_d3a35_row2_col8\" class=\"data row2 col8\" >-0.037261</td>\n",
              "      <td id=\"T_d3a35_row2_col9\" class=\"data row2 col9\" >0.089742</td>\n",
              "    </tr>\n",
              "    <tr>\n",
              "      <th id=\"T_d3a35_level0_row3\" class=\"row_heading level0 row3\" >RoomService</th>\n",
              "      <td id=\"T_d3a35_row3_col0\" class=\"data row3 col0\" >-0.244089</td>\n",
              "      <td id=\"T_d3a35_row3_col1\" class=\"data row3 col1\" >0.068425</td>\n",
              "      <td id=\"T_d3a35_row3_col2\" class=\"data row3 col2\" >0.056566</td>\n",
              "      <td id=\"T_d3a35_row3_col3\" class=\"data row3 col3\" >1.000000</td>\n",
              "      <td id=\"T_d3a35_row3_col4\" class=\"data row3 col4\" >-0.015126</td>\n",
              "      <td id=\"T_d3a35_row3_col5\" class=\"data row3 col5\" >0.052337</td>\n",
              "      <td id=\"T_d3a35_row3_col6\" class=\"data row3 col6\" >0.009244</td>\n",
              "      <td id=\"T_d3a35_row3_col7\" class=\"data row3 col7\" >-0.018624</td>\n",
              "      <td id=\"T_d3a35_row3_col8\" class=\"data row3 col8\" >-0.241124</td>\n",
              "      <td id=\"T_d3a35_row3_col9\" class=\"data row3 col9\" >0.067227</td>\n",
              "    </tr>\n",
              "    <tr>\n",
              "      <th id=\"T_d3a35_level0_row4\" class=\"row_heading level0 row4\" >FoodCourt</th>\n",
              "      <td id=\"T_d3a35_row4_col0\" class=\"data row4 col0\" >-0.205928</td>\n",
              "      <td id=\"T_d3a35_row4_col1\" class=\"data row4 col1\" >0.127343</td>\n",
              "      <td id=\"T_d3a35_row4_col2\" class=\"data row4 col2\" >0.125499</td>\n",
              "      <td id=\"T_d3a35_row4_col3\" class=\"data row4 col3\" >-0.015126</td>\n",
              "      <td id=\"T_d3a35_row4_col4\" class=\"data row4 col4\" >1.000000</td>\n",
              "      <td id=\"T_d3a35_row4_col5\" class=\"data row4 col5\" >-0.013717</td>\n",
              "      <td id=\"T_d3a35_row4_col6\" class=\"data row4 col6\" >0.221468</td>\n",
              "      <td id=\"T_d3a35_row4_col7\" class=\"data row4 col7\" >0.224572</td>\n",
              "      <td id=\"T_d3a35_row4_col8\" class=\"data row4 col8\" >0.045583</td>\n",
              "      <td id=\"T_d3a35_row4_col9\" class=\"data row4 col9\" >0.124859</td>\n",
              "    </tr>\n",
              "    <tr>\n",
              "      <th id=\"T_d3a35_level0_row5\" class=\"row_heading level0 row5\" >ShoppingMall</th>\n",
              "      <td id=\"T_d3a35_row5_col0\" class=\"data row5 col0\" >-0.207798</td>\n",
              "      <td id=\"T_d3a35_row5_col1\" class=\"data row5 col1\" >0.032846</td>\n",
              "      <td id=\"T_d3a35_row5_col2\" class=\"data row5 col2\" >0.018412</td>\n",
              "      <td id=\"T_d3a35_row5_col3\" class=\"data row5 col3\" >0.052337</td>\n",
              "      <td id=\"T_d3a35_row5_col4\" class=\"data row5 col4\" >-0.013717</td>\n",
              "      <td id=\"T_d3a35_row5_col5\" class=\"data row5 col5\" >1.000000</td>\n",
              "      <td id=\"T_d3a35_row5_col6\" class=\"data row5 col6\" >0.014542</td>\n",
              "      <td id=\"T_d3a35_row5_col7\" class=\"data row5 col7\" >-0.007849</td>\n",
              "      <td id=\"T_d3a35_row5_col8\" class=\"data row5 col8\" >0.009391</td>\n",
              "      <td id=\"T_d3a35_row5_col9\" class=\"data row5 col9\" >0.036838</td>\n",
              "    </tr>\n",
              "    <tr>\n",
              "      <th id=\"T_d3a35_level0_row6\" class=\"row_heading level0 row6\" >Spa</th>\n",
              "      <td id=\"T_d3a35_row6_col0\" class=\"data row6 col0\" >-0.198307</td>\n",
              "      <td id=\"T_d3a35_row6_col1\" class=\"data row6 col1\" >0.121071</td>\n",
              "      <td id=\"T_d3a35_row6_col2\" class=\"data row6 col2\" >0.060991</td>\n",
              "      <td id=\"T_d3a35_row6_col3\" class=\"data row6 col3\" >0.009244</td>\n",
              "      <td id=\"T_d3a35_row6_col4\" class=\"data row6 col4\" >0.221468</td>\n",
              "      <td id=\"T_d3a35_row6_col5\" class=\"data row6 col5\" >0.014542</td>\n",
              "      <td id=\"T_d3a35_row6_col6\" class=\"data row6 col6\" >1.000000</td>\n",
              "      <td id=\"T_d3a35_row6_col7\" class=\"data row6 col7\" >0.147658</td>\n",
              "      <td id=\"T_d3a35_row6_col8\" class=\"data row6 col8\" >-0.218545</td>\n",
              "      <td id=\"T_d3a35_row6_col9\" class=\"data row6 col9\" >0.113450</td>\n",
              "    </tr>\n",
              "    <tr>\n",
              "      <th id=\"T_d3a35_level0_row7\" class=\"row_heading level0 row7\" >VRDeck</th>\n",
              "      <td id=\"T_d3a35_row7_col0\" class=\"data row7 col0\" >-0.192721</td>\n",
              "      <td id=\"T_d3a35_row7_col1\" class=\"data row7 col1\" >0.099551</td>\n",
              "      <td id=\"T_d3a35_row7_col2\" class=\"data row7 col2\" >0.123061</td>\n",
              "      <td id=\"T_d3a35_row7_col3\" class=\"data row7 col3\" >-0.018624</td>\n",
              "      <td id=\"T_d3a35_row7_col4\" class=\"data row7 col4\" >0.224572</td>\n",
              "      <td id=\"T_d3a35_row7_col5\" class=\"data row7 col5\" >-0.007849</td>\n",
              "      <td id=\"T_d3a35_row7_col6\" class=\"data row7 col6\" >0.147658</td>\n",
              "      <td id=\"T_d3a35_row7_col7\" class=\"data row7 col7\" >1.000000</td>\n",
              "      <td id=\"T_d3a35_row7_col8\" class=\"data row7 col8\" >-0.204874</td>\n",
              "      <td id=\"T_d3a35_row7_col9\" class=\"data row7 col9\" >0.099748</td>\n",
              "    </tr>\n",
              "    <tr>\n",
              "      <th id=\"T_d3a35_level0_row8\" class=\"row_heading level0 row8\" >Transported</th>\n",
              "      <td id=\"T_d3a35_row8_col0\" class=\"data row8 col0\" >0.460132</td>\n",
              "      <td id=\"T_d3a35_row8_col1\" class=\"data row8 col1\" >-0.074249</td>\n",
              "      <td id=\"T_d3a35_row8_col2\" class=\"data row8 col2\" >-0.037261</td>\n",
              "      <td id=\"T_d3a35_row8_col3\" class=\"data row8 col3\" >-0.241124</td>\n",
              "      <td id=\"T_d3a35_row8_col4\" class=\"data row8 col4\" >0.045583</td>\n",
              "      <td id=\"T_d3a35_row8_col5\" class=\"data row8 col5\" >0.009391</td>\n",
              "      <td id=\"T_d3a35_row8_col6\" class=\"data row8 col6\" >-0.218545</td>\n",
              "      <td id=\"T_d3a35_row8_col7\" class=\"data row8 col7\" >-0.204874</td>\n",
              "      <td id=\"T_d3a35_row8_col8\" class=\"data row8 col8\" >1.000000</td>\n",
              "      <td id=\"T_d3a35_row8_col9\" class=\"data row8 col9\" >-0.075477</td>\n",
              "    </tr>\n",
              "    <tr>\n",
              "      <th id=\"T_d3a35_level0_row9\" class=\"row_heading level0 row9\" >Age_Group</th>\n",
              "      <td id=\"T_d3a35_row9_col0\" class=\"data row9 col0\" >-0.058800</td>\n",
              "      <td id=\"T_d3a35_row9_col1\" class=\"data row9 col1\" >0.966617</td>\n",
              "      <td id=\"T_d3a35_row9_col2\" class=\"data row9 col2\" >0.089742</td>\n",
              "      <td id=\"T_d3a35_row9_col3\" class=\"data row9 col3\" >0.067227</td>\n",
              "      <td id=\"T_d3a35_row9_col4\" class=\"data row9 col4\" >0.124859</td>\n",
              "      <td id=\"T_d3a35_row9_col5\" class=\"data row9 col5\" >0.036838</td>\n",
              "      <td id=\"T_d3a35_row9_col6\" class=\"data row9 col6\" >0.113450</td>\n",
              "      <td id=\"T_d3a35_row9_col7\" class=\"data row9 col7\" >0.099748</td>\n",
              "      <td id=\"T_d3a35_row9_col8\" class=\"data row9 col8\" >-0.075477</td>\n",
              "      <td id=\"T_d3a35_row9_col9\" class=\"data row9 col9\" >1.000000</td>\n",
              "    </tr>\n",
              "  </tbody>\n",
              "</table>\n"
            ]
          },
          "metadata": {},
          "execution_count": 10
        }
      ]
    },
    {
      "cell_type": "code",
      "source": [
        "features_cat = ['HomePlanet', 'Destination', 'Deck', 'Side']\n",
        "for feature in features_cat:\n",
        "    train[pd.get_dummies(train[feature], prefix=feature).columns] = pd.get_dummies(train[feature], prefix=feature)\n",
        "    test[pd.get_dummies(test[feature], prefix=feature).columns] = pd.get_dummies(test[feature], prefix=feature)"
      ],
      "metadata": {
        "id": "kgIyvH7m-BbP"
      },
      "execution_count": 11,
      "outputs": []
    },
    {
      "cell_type": "code",
      "source": [
        "train_dropped = train.drop(['PassengerId', 'HomePlanet', 'Cabin', 'Destination', 'Age',\n",
        "       'Name', 'Deck', 'Num', 'Side'], axis = 1)\n",
        "test_dropped = test.drop(['PassengerId', 'HomePlanet', 'Cabin', 'Destination', 'Age',\n",
        "       'Name', 'Deck', 'Num', 'Side'], axis = 1)"
      ],
      "metadata": {
        "id": "KpNp7OeQ-BeH"
      },
      "execution_count": 12,
      "outputs": []
    },
    {
      "cell_type": "code",
      "source": [
        "numeric_var = ['CryoSleep', 'VIP', 'RoomService', 'FoodCourt', 'ShoppingMall', 'Spa',\n",
        "       'VRDeck', 'Age_Group', 'HomePlanet_Earth',\n",
        "       'HomePlanet_Europa', 'HomePlanet_Mars', 'Destination_55 Cancri e',\n",
        "       'Destination_PSO J318.5-22', 'Destination_TRAPPIST-1e', 'Deck_A',\n",
        "       'Deck_B', 'Deck_C', 'Deck_D', 'Deck_E', 'Deck_F', 'Deck_G', 'Deck_T',\n",
        "       'Side_P', 'Side_S']"
      ],
      "metadata": {
        "id": "8IOXlKA39vpt"
      },
      "execution_count": 13,
      "outputs": []
    },
    {
      "cell_type": "code",
      "source": [
        "y = train_dropped['Transported']\n",
        "X = train_dropped[numeric_var]"
      ],
      "metadata": {
        "id": "hyYgbDbI-RiN"
      },
      "execution_count": 14,
      "outputs": []
    },
    {
      "cell_type": "code",
      "source": [
        "X_train, X_test, y_train, y_test = train_test_split(X, y, test_size = 0.2, random_state=1)"
      ],
      "metadata": {
        "id": "y2hHOOrU-RkT"
      },
      "execution_count": 15,
      "outputs": []
    },
    {
      "cell_type": "code",
      "source": [
        "print(f\"X_train: {X_train.shape[0]}\")\n",
        "print(f\"X_test: {X_test.shape[0]}\")\n",
        "print(f\"y_train: {y_train.shape[0]}\")\n",
        "print(f\"y_test: {y_test.shape[0]}\")"
      ],
      "metadata": {
        "colab": {
          "base_uri": "https://localhost:8080/"
        },
        "id": "YgKMJpkM-RnJ",
        "outputId": "44af64cf-1f17-464e-8526-505895f7b891"
      },
      "execution_count": 16,
      "outputs": [
        {
          "output_type": "stream",
          "name": "stdout",
          "text": [
            "X_train: 6954\n",
            "X_test: 1739\n",
            "y_train: 6954\n",
            "y_test: 1739\n"
          ]
        }
      ]
    },
    {
      "cell_type": "code",
      "source": [
        "random_forest = RandomForestClassifier(random_state = 1)"
      ],
      "metadata": {
        "id": "p5QNwgt9-Rpu"
      },
      "execution_count": 17,
      "outputs": []
    },
    {
      "cell_type": "code",
      "source": [
        "random_forest.fit(X_train, y_train)"
      ],
      "metadata": {
        "colab": {
          "base_uri": "https://localhost:8080/"
        },
        "id": "Ds5oYINv-bF0",
        "outputId": "ddc53faf-d14d-4060-b46b-1e260ecd5c5b"
      },
      "execution_count": 18,
      "outputs": [
        {
          "output_type": "execute_result",
          "data": {
            "text/plain": [
              "RandomForestClassifier(random_state=1)"
            ]
          },
          "metadata": {},
          "execution_count": 18
        }
      ]
    },
    {
      "cell_type": "code",
      "source": [
        "y_pred = random_forest.predict(X_test)"
      ],
      "metadata": {
        "id": "pGtgmSFB-bIB"
      },
      "execution_count": 19,
      "outputs": []
    },
    {
      "cell_type": "code",
      "source": [
        "print(f'random forest accuracy score is {accuracy_score(y_test, y_pred)}')"
      ],
      "metadata": {
        "colab": {
          "base_uri": "https://localhost:8080/"
        },
        "id": "cVXSMJTv-bK6",
        "outputId": "ab1a45e9-e1df-4bfd-e3fd-30185f769622"
      },
      "execution_count": 20,
      "outputs": [
        {
          "output_type": "stream",
          "name": "stdout",
          "text": [
            "random forest accuracy score is 0.8050603795284647\n"
          ]
        }
      ]
    },
    {
      "cell_type": "code",
      "source": [
        "scores = cross_val_score(random_forest, X_test, y_test, cv = 10)\n",
        "print(f'Cross val score for Random Forest: {scores.mean()}')"
      ],
      "metadata": {
        "colab": {
          "base_uri": "https://localhost:8080/"
        },
        "id": "_LCVU_H0-bNc",
        "outputId": "abac0a12-3349-4eb0-c3d5-2d633f05a0ae"
      },
      "execution_count": 21,
      "outputs": [
        {
          "output_type": "stream",
          "name": "stdout",
          "text": [
            "Cross val score for Random Forest: 0.7866553717360973\n"
          ]
        }
      ]
    },
    {
      "cell_type": "code",
      "source": [
        "plot_roc_curve(random_forest, X_test, y_test, name = 'Random Forest')\n",
        "plt.title('Random Forest Roc Curve and AUC')\n",
        "plt.plot([0, 1], [0, 1], 'r--')\n",
        "plt.show()"
      ],
      "metadata": {
        "colab": {
          "base_uri": "https://localhost:8080/",
          "height": 295
        },
        "id": "Ra2C6p9X-kR5",
        "outputId": "a7736311-bb2d-46b8-a532-8789e1a7fa71"
      },
      "execution_count": 22,
      "outputs": [
        {
          "output_type": "display_data",
          "data": {
            "text/plain": [
              "<Figure size 432x288 with 1 Axes>"
            ],
            "image/png": "[encoded data removed]"
          },
          "metadata": {}
        }
      ]
    },
    {
      "cell_type": "code",
      "source": [
        "random_forest_new = RandomForestClassifier(random_state = 1)\n",
        "random_forest_new"
      ],
      "metadata": {
        "colab": {
          "base_uri": "https://localhost:8080/"
        },
        "id": "YMFEzYxT-kUg",
        "outputId": "bff3768c-5718-48ab-cc55-fab6f626bfb0"
      },
      "execution_count": 23,
      "outputs": [
        {
          "output_type": "execute_result",
          "data": {
            "text/plain": [
              "RandomForestClassifier(random_state=1)"
            ]
          },
          "metadata": {},
          "execution_count": 23
        }
      ]
    },
    {
      "cell_type": "code",
      "source": [
        "params = {'n_estimators': [50, 100, 150, 200], \n",
        "          'criterion': ['gin1', 'entropy'], \n",
        "          'max_features': ['auto', 'sqrt', 'log2'], \n",
        "          'bootstrap': [True, False]}"
      ],
      "metadata": {
        "id": "aARljSjm-kXd"
      },
      "execution_count": 24,
      "outputs": []
    },
    {
      "cell_type": "code",
      "source": [
        "random_forest_grid = GridSearchCV(random_forest_new, param_grid = params)"
      ],
      "metadata": {
        "id": "jksvmqFP-rLS"
      },
      "execution_count": 25,
      "outputs": []
    },
    {
      "cell_type": "code",
      "source": [
        "random_forest_grid.fit(X_train, y_train)"
      ],
      "metadata": {
        "colab": {
          "base_uri": "https://localhost:8080/"
        },
        "id": "8PiasQ_s-rNu",
        "outputId": "d7f3f7de-955a-4759-dd29-3409fd3194bd"
      },
      "execution_count": 26,
      "outputs": [
        {
          "output_type": "execute_result",
          "data": {
            "text/plain": [
              "GridSearchCV(estimator=RandomForestClassifier(random_state=1),\n",
              "             param_grid={'bootstrap': [True, False],\n",
              "                         'criterion': ['gin1', 'entropy'],\n",
              "                         'max_features': ['auto', 'sqrt', 'log2'],\n",
              "                         'n_estimators': [50, 100, 150, 200]})"
            ]
          },
          "metadata": {},
          "execution_count": 26
        }
      ]
    },
    {
      "cell_type": "code",
      "source": [
        "print('best params: ', random_forest_grid.best_params_)"
      ],
      "metadata": {
        "colab": {
          "base_uri": "https://localhost:8080/"
        },
        "id": "YNoOMKx0-rQV",
        "outputId": "82526039-d249-4548-bfae-99dd387eb3ee"
      },
      "execution_count": 27,
      "outputs": [
        {
          "output_type": "stream",
          "name": "stdout",
          "text": [
            "best params:  {'bootstrap': True, 'criterion': 'entropy', 'max_features': 'auto', 'n_estimators': 100}\n"
          ]
        }
      ]
    },
    {
      "cell_type": "code",
      "source": [
        "random_forest_new2 = RandomForestClassifier(bootstrap = True, criterion = 'entropy', max_features = 'auto', n_estimators = 100, random_state = 1)"
      ],
      "metadata": {
        "id": "dYxGS-RO-rS7"
      },
      "execution_count": 28,
      "outputs": []
    },
    {
      "cell_type": "code",
      "source": [
        "random_forest_new2.fit(X_train, y_train)"
      ],
      "metadata": {
        "colab": {
          "base_uri": "https://localhost:8080/"
        },
        "id": "0ZSBgDTe-zdz",
        "outputId": "e14c7dd4-4bdc-41c3-f615-f98b5f74eef5"
      },
      "execution_count": 29,
      "outputs": [
        {
          "output_type": "execute_result",
          "data": {
            "text/plain": [
              "RandomForestClassifier(criterion='entropy', random_state=1)"
            ]
          },
          "metadata": {},
          "execution_count": 29
        }
      ]
    },
    {
      "cell_type": "code",
      "source": [
        "y_pred = random_forest_new2.predict(X_test)"
      ],
      "metadata": {
        "id": "6aJ0c-jD-zgL"
      },
      "execution_count": 30,
      "outputs": []
    },
    {
      "cell_type": "code",
      "source": [
        "print('the accuracy score of the Random Forest model after hyper param tuning is: ', accuracy_score(y_test, y_pred))"
      ],
      "metadata": {
        "colab": {
          "base_uri": "https://localhost:8080/"
        },
        "id": "NKcCsNbU-zjA",
        "outputId": "6b46054b-b1e1-43a9-ed79-02061b9d54fb"
      },
      "execution_count": 31,
      "outputs": [
        {
          "output_type": "stream",
          "name": "stdout",
          "text": [
            "the accuracy score of the Random Forest model after hyper param tuning is:  0.7987349051178838\n"
          ]
        }
      ]
    },
    {
      "cell_type": "code",
      "source": [
        "scores = cross_val_score(random_forest_new2, X_test, y_test, cv = 10)\n",
        "print(f'Cross val score for Random Forest: {scores.mean()}')"
      ],
      "metadata": {
        "colab": {
          "base_uri": "https://localhost:8080/"
        },
        "id": "XQil9wne-zla",
        "outputId": "96f1ea74-9791-4770-97ad-afbb964794e0"
      },
      "execution_count": 32,
      "outputs": [
        {
          "output_type": "stream",
          "name": "stdout",
          "text": [
            "Cross val score for Random Forest: 0.7935552454986381\n"
          ]
        }
      ]
    },
    {
      "cell_type": "code",
      "source": [
        "plot_roc_curve(random_forest_new2, X_test, y_test, name = 'Random Forest')\n",
        "plt.title('Random Forest Roc Curve and AUC')\n",
        "plt.plot([0, 1], [0, 1], 'r--')\n",
        "plt.show()"
      ],
      "metadata": {
        "colab": {
          "base_uri": "https://localhost:8080/",
          "height": 295
        },
        "id": "t_x7-Zjk-8-N",
        "outputId": "cd706a5a-2d34-4ff0-b27f-8624bf41eb95"
      },
      "execution_count": 33,
      "outputs": [
        {
          "output_type": "display_data",
          "data": {
            "text/plain": [
              "<Figure size 432x288 with 1 Axes>"
            ],
            "image/png": "[encoded data removed]"
          },
          "metadata": {}
        }
      ]
    },
    {
      "cell_type": "code",
      "source": [
        "test_dropped['Transported'] = False"
      ],
      "metadata": {
        "id": "9-5ZfF7t-9Ay"
      },
      "execution_count": 34,
      "outputs": []
    },
    {
      "cell_type": "code",
      "source": [
        "X, y = test_dropped[numeric_var], test_dropped['Transported']\n",
        "random_forest_model = random_forest_new2\n",
        "y_pred = random_forest_model.predict(X)\n",
        "y_pred.shape"
      ],
      "metadata": {
        "colab": {
          "base_uri": "https://localhost:8080/"
        },
        "id": "YfXpJvJo-9Df",
        "outputId": "58ec2421-2b8b-4540-f642-c34767d02ccb"
      },
      "execution_count": 35,
      "outputs": [
        {
          "output_type": "execute_result",
          "data": {
            "text/plain": [
              "(4277,)"
            ]
          },
          "metadata": {},
          "execution_count": 35
        }
      ]
    },
    {
      "cell_type": "code",
      "source": [
        "output = pd.DataFrame({'PassengerId': test.PassengerId, 'Transported': y_pred})\n",
        "output.to_csv('submissionb.csv', index = False)"
      ],
      "metadata": {
        "id": "i9j9HkxW-9GR"
      },
      "execution_count": 36,
      "outputs": []
    }
  ]
}