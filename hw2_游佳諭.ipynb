{
  "nbformat": 4,
  "nbformat_minor": 0,
  "metadata": {
    "colab": {
      "name": "hw2_游佳諭",
      "provenance": [],
      "collapsed_sections": [],
      "authorship_tag": "ABX9TyMpdHXUtrpxEQpIFuoHKope",
      "include_colab_link": true
    },
    "kernelspec": {
      "name": "python3",
      "display_name": "Python 3"
    },
    "language_info": {
      "name": "python"
    }
  },
  "cells": [
    {
      "cell_type": "markdown",
      "metadata": {
        "id": "view-in-github",
        "colab_type": "text"
      },
      "source": [
        "<a href=\"https://colab.research.google.com/github/Jia-Yu-Yu/pycs4001/blob/main/hw2_%E6%B8%B8%E4%BD%B3%E8%AB%AD.ipynb\" target=\"_parent\"><img src=\"https://colab.research.google.com/assets/colab-badge.svg\" alt=\"Open In Colab\"/></a>"
      ]
    },
    {
      "cell_type": "markdown",
      "source": [
        "1."
      ],
      "metadata": {
        "id": "eDDwY9BnoQZr"
      }
    },
    {
      "cell_type": "code",
      "source": [
        "n = int(input())\n",
        "i = 1\n",
        "total = 0\n",
        "while i <= n:\n",
        "  if i == n:\n",
        "    print(i,end= \"=\")\n",
        "  else:\n",
        "    print(i,end= \"+\")\n",
        "  total = total + i\n",
        "  i += 1\n",
        "print(total)"
      ],
      "metadata": {
        "colab": {
          "base_uri": "https://localhost:8080/"
        },
        "id": "g_xskgQMoS-_",
        "outputId": "0711bbd3-e674-4cf6-fccf-bd21d1f12d66"
      },
      "execution_count": null,
      "outputs": [
        {
          "output_type": "stream",
          "name": "stdout",
          "text": [
            "15\n",
            "1+2+3+4+5+6+7+8+9+10+11+12+13+14+15=120\n"
          ]
        }
      ]
    },
    {
      "cell_type": "markdown",
      "source": [
        "2."
      ],
      "metadata": {
        "id": "itLVfWE5pANB"
      }
    },
    {
      "cell_type": "code",
      "source": [
        "numbers =input()\n",
        "numbers =numbers.replace(\"[\",\"\").replace(\"]\",\"\")\n",
        "numbers =numbers.split(\",\")\n",
        "\n",
        "n = list(map(int, numbers))\n",
        "\n",
        "x=int(input())\n",
        "ans=[]\n",
        "for v in n:\n",
        "  if v > x:\n",
        "    ans.append(v)\n",
        "print(ans)"
      ],
      "metadata": {
        "colab": {
          "base_uri": "https://localhost:8080/"
        },
        "id": "dKQec-wGpA_N",
        "outputId": "0929384b-bdc5-4781-9767-f875f14b4cf2"
      },
      "execution_count": null,
      "outputs": [
        {
          "output_type": "stream",
          "name": "stdout",
          "text": [
            "[35, 27, 98]\n",
            "60\n",
            "[98]\n"
          ]
        }
      ]
    },
    {
      "cell_type": "markdown",
      "source": [
        "3."
      ],
      "metadata": {
        "id": "DONixSd4qbXj"
      }
    },
    {
      "cell_type": "code",
      "source": [
        "s = input()\n",
        "s = s.split()\n",
        "ans = []\n",
        "for v in s:\n",
        "  if int(v) % 2 == 0 :\n",
        "    ans.append(int(v))\n",
        "print(f\"總和: {sum(ans)}\")"
      ],
      "metadata": {
        "colab": {
          "base_uri": "https://localhost:8080/"
        },
        "id": "fMrS0uWPqcbd",
        "outputId": "9afea5a7-3941-4d49-f33f-c070acc4c547"
      },
      "execution_count": null,
      "outputs": [
        {
          "output_type": "stream",
          "name": "stdout",
          "text": [
            "67 53 28 100 96 85 76 78\n",
            "總和: 378\n"
          ]
        }
      ]
    },
    {
      "cell_type": "markdown",
      "source": [
        "4."
      ],
      "metadata": {
        "id": "-hXIaoHQtf9G"
      }
    }
  ]
}