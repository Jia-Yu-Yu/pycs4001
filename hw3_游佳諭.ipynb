{
  "nbformat": 4,
  "nbformat_minor": 0,
  "metadata": {
    "colab": {
      "name": "hw3_游佳諭.ipynb",
      "provenance": [],
      "collapsed_sections": [],
      "authorship_tag": "ABX9TyN/PBELEAiXwFqJ5OYLvGIf",
      "include_colab_link": true
    },
    "kernelspec": {
      "name": "python3",
      "display_name": "Python 3"
    },
    "language_info": {
      "name": "python"
    }
  },
  "cells": [
    {
      "cell_type": "markdown",
      "metadata": {
        "id": "view-in-github",
        "colab_type": "text"
      },
      "source": [
        "<a href=\"https://colab.research.google.com/github/Jia-Yu-Yu/pycs4001/blob/main/hw3_%E6%B8%B8%E4%BD%B3%E8%AB%AD.ipynb\" target=\"_parent\"><img src=\"https://colab.research.google.com/assets/colab-badge.svg\" alt=\"Open In Colab\"/></a>"
      ]
    },
    {
      "cell_type": "markdown",
      "source": [
        "1."
      ],
      "metadata": {
        "id": "Dx3O-GPNEUFM"
      }
    },
    {
      "cell_type": "code",
      "execution_count": null,
      "metadata": {
        "colab": {
          "base_uri": "https://localhost:8080/"
        },
        "id": "OAJkgubP5P2f",
        "outputId": "fc195491-dd6c-46f3-e702-ad66c447323a"
      },
      "outputs": [
        {
          "output_type": "stream",
          "name": "stdout",
          "text": [
            "5\n",
            "*****\n",
            " ****\n",
            "  ***\n",
            "   **\n",
            "    *\n"
          ]
        }
      ],
      "source": [
        "n = int(input())\n",
        "for i in range(n):\n",
        "  for j in range(i):\n",
        "    print(\" \", end=\"\")\n",
        "  for k in range(n-i):\n",
        "    print(\"*\", end=\"\")\n",
        "  print()"
      ]
    },
    {
      "cell_type": "markdown",
      "source": [
        "2."
      ],
      "metadata": {
        "id": "uFs-T6OyEXZq"
      }
    },
    {
      "cell_type": "code",
      "source": [
        "n = int(input())\n",
        "for i in range(n):\n",
        "  for j in range(n-i-1):\n",
        "    print(\" \", end=\"\")\n",
        "  for k in range(i+1):\n",
        "    print(\"*\",end=\"\")\n",
        "  print()"
      ],
      "metadata": {
        "colab": {
          "base_uri": "https://localhost:8080/"
        },
        "id": "fhRuvGobEYf0",
        "outputId": "03cc2581-3d97-4238-eb85-f02ffa4d4402"
      },
      "execution_count": null,
      "outputs": [
        {
          "output_type": "stream",
          "name": "stdout",
          "text": [
            "5\n",
            "    *\n",
            "   **\n",
            "  ***\n",
            " ****\n",
            "*****\n"
          ]
        }
      ]
    },
    {
      "cell_type": "markdown",
      "source": [
        "3."
      ],
      "metadata": {
        "id": "_6Gd3S8TEY0J"
      }
    },
    {
      "cell_type": "code",
      "source": [
        "def get_distance(x1,y1,x2,y2):\n",
        "  return ((x1-x2)**2+(y1-y2)**2)**0.5\n",
        "\n",
        "point1=input(\"point1: \")\n",
        "point1 =point1.split(\" \")\n",
        "x1 =int(point1[0])\n",
        "y1 =int(point1[1])\n",
        "\n",
        "point2=input(\"point2: \")\n",
        "point2 =point2.split(\" \")\n",
        "x2 =int(point2[0])\n",
        "y2 =int(point2[1])\n",
        "\n",
        "\n",
        "ans=get_distance(x1,y1,x2,y2)\n",
        "print(ans)"
      ],
      "metadata": {
        "colab": {
          "base_uri": "https://localhost:8080/"
        },
        "id": "zhsjKtIGEZts",
        "outputId": "9e749bdd-d1b6-4166-9666-4945f818bf83"
      },
      "execution_count": null,
      "outputs": [
        {
          "output_type": "stream",
          "name": "stdout",
          "text": [
            "point1: 3 5\n",
            "point2: 10 29\n",
            "25.0\n"
          ]
        }
      ]
    },
    {
      "cell_type": "markdown",
      "source": [
        "4."
      ],
      "metadata": {
        "id": "UzD76nC9EZ-p"
      }
    },
    {
      "cell_type": "code",
      "source": [
        "import random\n",
        "row = int(input(\"row: \"))\n",
        "col = int(input(\"col: \"))\n",
        "matrix = [[0]*col for i in range(row)]\n",
        "for i in range(row):\n",
        "  for j in range(col):\n",
        "    matrix[i][j] = random.randint(1,20)\n",
        "print()\n",
        "\n",
        "for r in matrix:\n",
        "  for c in r:\n",
        "    print(c, end=\"  \")\n",
        "  print()\n",
        "\n",
        "print()\n",
        "print(matrix)"
      ],
      "metadata": {
        "colab": {
          "base_uri": "https://localhost:8080/"
        },
        "id": "UDjHGddqEa1U",
        "outputId": "54ed661f-0537-4016-9000-7cc9309c3a0c"
      },
      "execution_count": null,
      "outputs": [
        {
          "output_type": "stream",
          "name": "stdout",
          "text": [
            "row: 5\n",
            "col: 3\n",
            "\n",
            "17  15  2  \n",
            "14  10  16  \n",
            "10  5  9  \n",
            "1  11  17  \n",
            "2  14  3  \n",
            "\n",
            "[[17, 15, 2], [14, 10, 16], [10, 5, 9], [1, 11, 17], [2, 14, 3]]\n"
          ]
        }
      ]
    }
  ]
}